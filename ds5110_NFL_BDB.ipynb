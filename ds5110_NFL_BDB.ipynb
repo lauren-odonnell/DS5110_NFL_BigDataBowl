{
 "cells": [
  {
   "cell_type": "markdown",
   "metadata": {},
   "source": [
    "# DS 5110 Final Project\n",
    "## 2020 NFL Big Data Bowl\n",
    "### Group 3: Anoop Nath, Lauren O'Donnell, OC Ofoma"
   ]
  },
  {
   "cell_type": "markdown",
   "metadata": {},
   "source": [
    "### Introduction\n",
    "Our final project is completing the [NFL Big Data Bowl](https://www.kaggle.com/competitions/nfl-big-data-bowl-2020/overview) prompt from 2020. This competition was hosted on Kaggle and asks the participants to compute the Continuous Ranked Probability Score (CRPS) for each play. The CRPS indicates the probability that a team gains that many yards on the play. The CRPS is computed by: \n",
    "\n",
    "$$\n",
    "C = \\dfrac{1}{1199} \\sum^N_{m=1} \\sum^{99}_{n=-99} (P(y \\leq n) H(n-Y_m))^2\n",
    "$$\n",
    "\n",
    "where P is the predicted distribution, $N$ is the number of plays in the test set, $Y$ is the actual yardage and $H(x)$ is the Heaviside step function $(H(x) = 1$ for $x \\geq 0$ and zero otherwise).\n",
    "\n",
    "The submission will not score if any of the predicted values has $P(y \\leq k) \\ge P(y \\leq k + 1)$ for any $k$ (i.e. the CDF must be non-decreasing).\n",
    "\n",
    "Our initial goal was to compute the CRPS; however, we opted to focus on a more simple goal of predicting whether or not a play would result in a first down. As part of the DS 5110 project requirements, we generated three models utilizing techniques from this course in `pyspark`. "
   ]
  },
  {
   "cell_type": "markdown",
   "metadata": {},
   "source": [
    "### Importing Dataset\n",
    "The data were provided as part of the [2020 NFL Big Data Bowl](https://www.kaggle.com/competitions/nfl-big-data-bowl-2020/) hosted on Kaggle. For this project, the data were downloaded from Kaggle locally and uploaded to a shared location. \n",
    "\n",
    "We utilized the resources on Rivanna to execute our project. Our data was stored and shared on Rivanna for us to use in one singular location. Code was shared on our [GitHub Repository](https://github.com/lauren-odonnell/DS5110_NFL_BigDataBowl). Please note that as the data file is rather large, it is not housed in GitHub and can be downloaded via the [2020 NFL Big Data Bowl](https://www.kaggle.com/competitions/nfl-big-data-bowl-2020/) page.\n",
    "\n",
    "A data dictionary was provided by the 2020 NFL Big Data Bowl and used as a schema to import the data. The variables are described below.\n",
    "\n",
    "* `GameId` - a unique game identifier\n",
    "* `PlayId` - a unique play identifier\n",
    "* `Team` - home or away\n",
    "* `X` - player position along the long axis of the field. See figure below.\n",
    "* `Y` - player position along the short axis of the field. See figure below.\n",
    "* `S` - speed in yards/second\n",
    "* `A` - acceleration in yards/second^2\n",
    "* `Dis` - distance traveled from prior time point, in yards\n",
    "* `Orientation` - orientation of player (deg)\n",
    "* `Dir` - angle of player motion (deg)\n",
    "* `NflId` - a unique identifier of the player\n",
    "* `DisplayName` - player's name\n",
    "* `JerseyNumber` - jersey number\n",
    "* `Season` - year of the season\n",
    "* `YardLine` - the yard line of the line of scrimmage\n",
    "* `Quarter` - game quarter (1-5, 5 == overtime)\n",
    "* `GameClock` - time on the game clock\n",
    "* `PossessionTeam` - team with possession\n",
    "* `Down` - the down (1-4)\n",
    "* `Distance` - yards needed for a first down\n",
    "* `FieldPosition` - which side of the field the play is happening on\n",
    "* `HomeScoreBeforePlay` - home team score before play started\n",
    "* `VisitorScoreBeforePlay` - visitor team score before play started\n",
    "* `NflIdRusher` - the NflId of the rushing player\n",
    "* `OffenseFormation` - offense formation\n",
    "* `OffensePersonnel` - offensive team positional grouping\n",
    "* `DefendersInTheBox` - number of defenders lined up near the line of scrimmage, spanning the width of the offensive line\n",
    "* `DefensePersonnel` - defensive team positional grouping\n",
    "* `PlayDirection` - direction the play is headed\n",
    "* `TimeHandoff` - UTC time of the handoff\n",
    "* `TimeSnap` - UTC time of the snap\n",
    "* `Yards` - the yardage gained on the play\n",
    "* `PlayerHeight` - player height (ft-in)\n",
    "* `PlayerWeight` - player weight (lbs)\n",
    "* `PlayerBirthDate` - birth date (mm/dd/yyyy)\n",
    "* `PlayerCollegeName` - where the player attended college\n",
    "* `Position` - the player's position (the specific role on the field that they typically play)\n",
    "* `HomeTeamAbbr` - home team abbreviation\n",
    "* `VisitorTeamAbbr` - visitor team abbreviation\n",
    "* `Week` - week into the season\n",
    "* `Stadium` - stadium where the game is being played\n",
    "* `Location` - city where the game is being played\n",
    "* `StadiumType` - description of the stadium environment\n",
    "* `Turf` - description of the field surface\n",
    "* `GameWeather` - description of the game weather\n",
    "* `Temperature` - temperature (deg F)\n",
    "* `Humidity` - humidity\n",
    "* `WindSpeed` - wind speed in miles/hour\n",
    "* `WindDirection` - wind direction* \n",
    "\n",
    "\n",
    "<img src=\"NFL_Data_Dictionary.png\">  "
   ]
  },
  {
   "cell_type": "code",
   "execution_count": 1,
   "metadata": {},
   "outputs": [
    {
     "name": "stdout",
     "output_type": "stream",
     "text": [
      "/sfs/qumulo/qhome/qsq6zz/ds5110/project\n"
     ]
    },
    {
     "name": "stderr",
     "output_type": "stream",
     "text": [
      "/opt/conda/lib/python3.7/site-packages/pyspark/bin/load-spark-env.sh: line 68: ps: command not found\n",
      "Setting default log level to \"WARN\".\n",
      "To adjust logging level use sc.setLogLevel(newLevel). For SparkR, use setLogLevel(newLevel).\n"
     ]
    },
    {
     "name": "stdout",
     "output_type": "stream",
     "text": [
      "23/08/10 13:00:07 WARN NativeCodeLoader: Unable to load native-hadoop library for your platform... using builtin-java classes where applicable\n"
     ]
    }
   ],
   "source": [
    "import os\n",
    "print(os.getcwd())\n",
    "\n",
    "from pyspark.sql import SparkSession\n",
    "\n",
    "spark = SparkSession.builder \\\n",
    "        .appName(\"NFL_data\") \\\n",
    "        .getOrCreate()"
   ]
  },
  {
   "cell_type": "code",
   "execution_count": 2,
   "metadata": {},
   "outputs": [],
   "source": [
    "# setting dataset schema for import\n",
    "\n",
    "# import data types\n",
    "from pyspark.sql.types import StructType, StructField, StringType, IntegerType, FloatType, TimestampType, DateType, LongType\n",
    "schema = StructType([\n",
    "    StructField('GameId', IntegerType(), True),\n",
    "    StructField('PlayId', LongType(), True), \n",
    "    StructField('Team', StringType(), True), \n",
    "    StructField('X', FloatType(), True), \n",
    "    StructField('Y', FloatType(), True), \n",
    "    StructField('S', FloatType(), True), \n",
    "    StructField('A', FloatType(), True), \n",
    "    StructField('Dis', FloatType(), True), \n",
    "    StructField('Orientation', FloatType(), True), \n",
    "    StructField('Dir', FloatType(), True), \n",
    "    StructField('NflId', IntegerType(), True), \n",
    "    StructField('DisplayName', StringType(), True), \n",
    "    StructField('JerseyNumber', IntegerType(), True), \n",
    "    StructField('Season', IntegerType(), True), \n",
    "    StructField('YardLine', IntegerType(), True), \n",
    "    StructField('Quarter', IntegerType(), True), \n",
    "    StructField('GameClock', TimestampType(), True), \n",
    "    StructField('PossessionTeam', StringType(), True), \n",
    "    StructField('Down', IntegerType(), True), \n",
    "    StructField('Distance', IntegerType(), True), \n",
    "    StructField('FieldPosition', StringType(), True), \n",
    "    StructField('HomeScoreBeforePlay', IntegerType(), True), \n",
    "    StructField('VisitorScoreBeforePlay', IntegerType(), True), \n",
    "    StructField('NflIdRusher', IntegerType(), True), \n",
    "    StructField('OffenseFormation', StringType(), True), \n",
    "    StructField('OffensePersonnel', StringType(), True), \n",
    "    StructField('DefendersInTheBox', IntegerType(), True), \n",
    "    StructField('DefensePersonnel', StringType(), True), \n",
    "    StructField('PlayDirection', StringType(), True), \n",
    "    StructField('TimeHandoff', TimestampType(), True), \n",
    "    StructField('TimeSnap', TimestampType(), True), \n",
    "    StructField('Yards', IntegerType(), True), \n",
    "    StructField('PlayerHeight', StringType(), True), \n",
    "    StructField('PlayerWeight', IntegerType(), True), \n",
    "    StructField('PlayerBirthDate', DateType(), True), \n",
    "    StructField('PlayerCollegeName', StringType(), True), \n",
    "    StructField('Position', StringType(), True), \n",
    "    StructField('HomeTeamAbbr', StringType(), True), \n",
    "    StructField('VisitorTeamAbbr', StringType(), True), \n",
    "    StructField('Week', IntegerType(), True), \n",
    "    StructField('Stadium', StringType(), True), \n",
    "    StructField('Location', StringType(), True), \n",
    "    StructField('StadiumType', StringType(), True), \n",
    "    StructField('Turf', StringType(), True), \n",
    "    StructField('GameWeather', StringType(), True), \n",
    "    StructField('Temperature', IntegerType(), True), \n",
    "    StructField('Humidity', IntegerType(), True), \n",
    "    StructField('WindSpeed', IntegerType(), True), \n",
    "    StructField('WindDirection', StringType(), True)])"
   ]
  },
  {
   "cell_type": "code",
   "execution_count": 3,
   "metadata": {},
   "outputs": [],
   "source": [
    "path = '/sfs/qumulo/qhome/nux9aq/project/data.csv' # update as necessary; current is the shared location containing the data\n",
    "\n",
    "df = spark.read.csv(path, header = True, schema = schema)"
   ]
  },
  {
   "cell_type": "code",
   "execution_count": 4,
   "metadata": {},
   "outputs": [
    {
     "name": "stderr",
     "output_type": "stream",
     "text": [
      "[Stage 0:=============================>                             (1 + 1) / 2]\r"
     ]
    },
    {
     "name": "stdout",
     "output_type": "stream",
     "text": [
      "Number of rows:  682154\n"
     ]
    },
    {
     "name": "stderr",
     "output_type": "stream",
     "text": [
      "                                                                                \r"
     ]
    }
   ],
   "source": [
    "print('Number of rows: ', df.count())"
   ]
  },
  {
   "cell_type": "markdown",
   "metadata": {},
   "source": [
    "### Data Preprocessing\n",
    "The NFL data is notorious for requiring lots of wrangling, from cleaning up sensors that were worn backwards during a game to engineering variables to fit the need of the research question at hand. However, the data appeared to be fairly clean before being provided online for the Big Data Bowl competition. This saved us lots of time (thank you, NFL!!). \n",
    "\n",
    "In our case, we needed to generate some additional variables. We generated variables to calculate the distance to a touchdown, a variable to identify the rusher's X and Y coordinates for each play, a variable containing the Euclidean distance between the rusher and each player, a variable identifying the closest defender (which required filtering out the offensive players), and a binary variable defining whether a first down place was achieved."
   ]
  },
  {
   "cell_type": "code",
   "execution_count": 5,
   "metadata": {},
   "outputs": [],
   "source": [
    "from pyspark.sql.functions import when\n",
    "\n",
    "# Calculate DistanceToTouchdown\n",
    "df = df.withColumn('DistanceToTouchdown', \n",
    "                   when(df['PossessionTeam'] == df['FieldPosition'], 100 - df['YardLine']).otherwise(df['YardLine']))\n",
    "\n",
    "\n",
    "# Identify the rusher's X and Y for each play and merge to the original DataFrame\n",
    "df_rusher = df.filter(df['NflId'] == df['NflIdRusher']).select('PlayId', 'X', 'Y', 'Team')\n",
    "df_rusher = df_rusher.withColumnRenamed('X', 'RusherX').withColumnRenamed('Y', 'RusherY').withColumnRenamed('Team', 'RusherTeam')\n",
    "df = df.join(df_rusher, on=['PlayId'], how='inner')\n",
    "\n",
    "\n",
    "# Calculate Euclidean distance between ball carrier (rusher) and each player\n",
    "df = df.withColumn('PlayerDistance', ((df['X'] - df['RusherX'])**2 + (df['Y'] - df['RusherY'])**2)**0.5)\n",
    "\n",
    "\n",
    "# Filter out the offensive team players\n",
    "df_defenders = df.filter(df['Team'] != df['RusherTeam'])\n",
    "\n",
    "# For each PlayId, find the minimum PlayerDistance\n",
    "df_defenders = df_defenders.groupBy('PlayId').min('PlayerDistance')\n",
    "df_defenders = df_defenders.withColumnRenamed('min(PlayerDistance)', 'ClosestDefenderDistance')\n",
    "\n",
    "# Merge ClosestDefenderDistance back to the original DataFrame\n",
    "df = df.join(df_defenders, on = ['PlayId'], how = 'inner')\n",
    "\n",
    "\n",
    "# Define first_down_gained\n",
    "df = df.withColumn('first_down_gained', when(df['Yards'] - df['Distance'] >= 0, 1).otherwise(0))"
   ]
  },
  {
   "cell_type": "markdown",
   "metadata": {},
   "source": [
    "Following the generation of these additional variables, we needed to define the features and target for our models. We selected variables `DefendersInTheBox`, `Down`, `Distance`, `DistanceToTouchdown`, and `ClosestDefenderDistance` as our features and `first_down_gained` as our target variable. \n",
    "\n",
    "As final data preprocessing, we removed rows with null values and assembled our features into a vector column. "
   ]
  },
  {
   "cell_type": "code",
   "execution_count": 6,
   "metadata": {},
   "outputs": [],
   "source": [
    "from pyspark.ml.feature import VectorAssembler\n",
    "\n",
    "# Define the feature columns and target variable\n",
    "features = ['DefendersInTheBox', 'Down', 'Distance', 'DistanceToTouchdown', 'ClosestDefenderDistance']\n",
    "target = 'first_down_gained'\n",
    "\n",
    "# Drop rows with null values\n",
    "df = df.na.drop(subset=features)\n",
    "\n",
    "# Assemble features into a feature vector column\n",
    "assembler = VectorAssembler(inputCols = features, outputCol = 'features')\n",
    "df = assembler.transform(df)"
   ]
  },
  {
   "cell_type": "markdown",
   "metadata": {},
   "source": [
    "Finally, we check the schema one last time to ensure everything is set up properly for analysis. "
   ]
  },
  {
   "cell_type": "code",
   "execution_count": 7,
   "metadata": {},
   "outputs": [
    {
     "name": "stdout",
     "output_type": "stream",
     "text": [
      "root\n",
      " |-- PlayId: long (nullable = true)\n",
      " |-- GameId: integer (nullable = true)\n",
      " |-- Team: string (nullable = true)\n",
      " |-- X: float (nullable = true)\n",
      " |-- Y: float (nullable = true)\n",
      " |-- S: float (nullable = true)\n",
      " |-- A: float (nullable = true)\n",
      " |-- Dis: float (nullable = true)\n",
      " |-- Orientation: float (nullable = true)\n",
      " |-- Dir: float (nullable = true)\n",
      " |-- NflId: integer (nullable = true)\n",
      " |-- DisplayName: string (nullable = true)\n",
      " |-- JerseyNumber: integer (nullable = true)\n",
      " |-- Season: integer (nullable = true)\n",
      " |-- YardLine: integer (nullable = true)\n",
      " |-- Quarter: integer (nullable = true)\n",
      " |-- GameClock: timestamp (nullable = true)\n",
      " |-- PossessionTeam: string (nullable = true)\n",
      " |-- Down: integer (nullable = true)\n",
      " |-- Distance: integer (nullable = true)\n",
      " |-- FieldPosition: string (nullable = true)\n",
      " |-- HomeScoreBeforePlay: integer (nullable = true)\n",
      " |-- VisitorScoreBeforePlay: integer (nullable = true)\n",
      " |-- NflIdRusher: integer (nullable = true)\n",
      " |-- OffenseFormation: string (nullable = true)\n",
      " |-- OffensePersonnel: string (nullable = true)\n",
      " |-- DefendersInTheBox: integer (nullable = true)\n",
      " |-- DefensePersonnel: string (nullable = true)\n",
      " |-- PlayDirection: string (nullable = true)\n",
      " |-- TimeHandoff: timestamp (nullable = true)\n",
      " |-- TimeSnap: timestamp (nullable = true)\n",
      " |-- Yards: integer (nullable = true)\n",
      " |-- PlayerHeight: string (nullable = true)\n",
      " |-- PlayerWeight: integer (nullable = true)\n",
      " |-- PlayerBirthDate: date (nullable = true)\n",
      " |-- PlayerCollegeName: string (nullable = true)\n",
      " |-- Position: string (nullable = true)\n",
      " |-- HomeTeamAbbr: string (nullable = true)\n",
      " |-- VisitorTeamAbbr: string (nullable = true)\n",
      " |-- Week: integer (nullable = true)\n",
      " |-- Stadium: string (nullable = true)\n",
      " |-- Location: string (nullable = true)\n",
      " |-- StadiumType: string (nullable = true)\n",
      " |-- Turf: string (nullable = true)\n",
      " |-- GameWeather: string (nullable = true)\n",
      " |-- Temperature: integer (nullable = true)\n",
      " |-- Humidity: integer (nullable = true)\n",
      " |-- WindSpeed: integer (nullable = true)\n",
      " |-- WindDirection: string (nullable = true)\n",
      " |-- DistanceToTouchdown: integer (nullable = true)\n",
      " |-- RusherX: float (nullable = true)\n",
      " |-- RusherY: float (nullable = true)\n",
      " |-- RusherTeam: string (nullable = true)\n",
      " |-- PlayerDistance: double (nullable = true)\n",
      " |-- ClosestDefenderDistance: double (nullable = true)\n",
      " |-- first_down_gained: integer (nullable = false)\n",
      " |-- features: vector (nullable = true)\n",
      "\n"
     ]
    }
   ],
   "source": [
    "df.printSchema()"
   ]
  },
  {
   "cell_type": "markdown",
   "metadata": {},
   "source": [
    "### Data Splitting/Sampling\n",
    "Before creating models, the data needed to be split. We used a 70\\:20\\:10 split to create a training, validation, and test set respectively. We used `seed` 420 to standardize our data splits through each run. "
   ]
  },
  {
   "cell_type": "code",
   "execution_count": 8,
   "metadata": {},
   "outputs": [],
   "source": [
    "# Split the data into train, validate and test datasets\n",
    "seed = 420\n",
    "train, val, test = df.randomSplit([0.7, 0.2, 0.1], seed = seed)"
   ]
  },
  {
   "cell_type": "markdown",
   "metadata": {},
   "source": [
    "### Exploratory Data Analysis (EDA)"
   ]
  },
  {
   "cell_type": "markdown",
   "metadata": {},
   "source": [
    "Beginning EDA, we first needed to group the data by each play as each player's data was listed for each play. To confirm the standardization of the data, we executed a count of each `PlayId` to confirm there was data for 22 players on each `PlayId`. "
   ]
  },
  {
   "cell_type": "code",
   "execution_count": 9,
   "metadata": {},
   "outputs": [],
   "source": [
    "import pandas as pd\n",
    "import numpy as np\n",
    "import seaborn as sns\n",
    "import matplotlib.pyplot as plt\n",
    "from pyspark.sql.functions import when, col\n",
    "from pyspark.sql import functions as F\n",
    "from pyspark.sql.window import Window"
   ]
  },
  {
   "cell_type": "code",
   "execution_count": 10,
   "metadata": {},
   "outputs": [
    {
     "name": "stderr",
     "output_type": "stream",
     "text": [
      "[Stage 11:>                                                         (0 + 1) / 1]\r"
     ]
    },
    {
     "name": "stdout",
     "output_type": "stream",
     "text": [
      "+--------------+-----+\n",
      "|        PlayId|count|\n",
      "+--------------+-----+\n",
      "|20170907000118|   22|\n",
      "|20170907000139|   22|\n",
      "|20170907000680|   22|\n",
      "|20170907000801|   22|\n",
      "|20170907001004|   22|\n",
      "|20170907001077|   22|\n",
      "|20170907001156|   22|\n",
      "|20170907001177|   22|\n",
      "|20170907001355|   22|\n",
      "|20170907001376|   22|\n",
      "|20170907001488|   22|\n",
      "|20170907001509|   22|\n",
      "|20170907001530|   22|\n",
      "|20170907001605|   22|\n",
      "|20170907001664|   22|\n",
      "|20170907001715|   22|\n",
      "|20170907001819|   22|\n",
      "|20170907002829|   22|\n",
      "|20170907003138|   22|\n",
      "|20170907003444|   22|\n",
      "+--------------+-----+\n",
      "only showing top 20 rows\n",
      "\n"
     ]
    },
    {
     "name": "stderr",
     "output_type": "stream",
     "text": [
      "                                                                                \r"
     ]
    }
   ],
   "source": [
    "plays= df.groupBy('PlayId').count()\n",
    "plays.show()"
   ]
  },
  {
   "cell_type": "markdown",
   "metadata": {},
   "source": [
    "We then computed the total number of plays in the dataset, returnining a value of 31,006 total plays. "
   ]
  },
  {
   "cell_type": "code",
   "execution_count": 11,
   "metadata": {},
   "outputs": [
    {
     "name": "stderr",
     "output_type": "stream",
     "text": [
      "[Stage 20:>                                                         (0 + 2) / 2]\r"
     ]
    },
    {
     "name": "stdout",
     "output_type": "stream",
     "text": [
      "Number of plays:  31006\n"
     ]
    },
    {
     "name": "stderr",
     "output_type": "stream",
     "text": [
      "                                                                                \r"
     ]
    }
   ],
   "source": [
    "#how many plays are in the dataset?\n",
    "print('Number of plays: ', df.select('PlayId').distinct().count())"
   ]
  },
  {
   "cell_type": "markdown",
   "metadata": {},
   "source": [
    "Based on subject knowledge around American football, one of the more important predictors will be how far away the offensive team is to the endzone. This was not explicitly listed in the data and can be derived using the constructed `DistanceToTouchdown` variable. \n",
    "\n",
    "Our target variable we will be trying to predict is `first_down_gained`. Below is a statistical summary of `first_down_gained`."
   ]
  },
  {
   "cell_type": "code",
   "execution_count": 12,
   "metadata": {},
   "outputs": [
    {
     "name": "stderr",
     "output_type": "stream",
     "text": [
      "[Stage 35:=============================>                            (1 + 1) / 2]\r"
     ]
    },
    {
     "name": "stdout",
     "output_type": "stream",
     "text": [
      "+-------+-------------------+\n",
      "|summary|  first_down_gained|\n",
      "+-------+-------------------+\n",
      "|  count|             476549|\n",
      "|   mean|0.21246293665499247|\n",
      "| stddev|0.40905108277137037|\n",
      "|    min|                  0|\n",
      "|    25%|                  0|\n",
      "|    50%|                  0|\n",
      "|    75%|                  0|\n",
      "|    max|                  1|\n",
      "+-------+-------------------+\n",
      "\n"
     ]
    },
    {
     "name": "stderr",
     "output_type": "stream",
     "text": [
      "                                                                                \r"
     ]
    }
   ],
   "source": [
    "train.select('first_down_gained').summary().show()"
   ]
  },
  {
   "cell_type": "markdown",
   "metadata": {},
   "source": [
    "Next, we looked at the statistical summary for potential predictor variables "
   ]
  },
  {
   "cell_type": "code",
   "execution_count": 13,
   "metadata": {},
   "outputs": [
    {
     "name": "stderr",
     "output_type": "stream",
     "text": [
      "[Stage 50:=============================>                            (1 + 1) / 2]\r"
     ]
    },
    {
     "name": "stdout",
     "output_type": "stream",
     "text": [
      "+-------+------------------+------------------+------------------+-------------------+-----------------------+\n",
      "|summary| DefendersInTheBox|              Down|          Distance|DistanceToTouchdown|ClosestDefenderDistance|\n",
      "+-------+------------------+------------------+------------------+-------------------+-----------------------+\n",
      "|  count|            476549|            476549|            476549|             476549|                 476549|\n",
      "|   mean| 6.909299988039005|1.5178292263754618| 8.316254991616812| 51.651941353355056|      4.580495124332786|\n",
      "| stddev|0.9860198071140767| 0.676662053322024|3.8167512403505874| 25.244464676331962|     0.9716960864541192|\n",
      "|    min|                 2|                 1|                 1|                  1|     0.2308711463553317|\n",
      "|    25%|                 6|                 1|                 6|                 32|     3.9669261888081686|\n",
      "|    50%|                 7|                 1|                10|                 56|      4.590774361774251|\n",
      "|    75%|                 7|                 2|                10|                 74|     5.1941160248532166|\n",
      "|    max|                11|                 4|                40|                 99|      9.685873712136583|\n",
      "+-------+------------------+------------------+------------------+-------------------+-----------------------+\n",
      "\n"
     ]
    },
    {
     "name": "stderr",
     "output_type": "stream",
     "text": [
      "                                                                                \r"
     ]
    }
   ],
   "source": [
    "train.select('DefendersInTheBox', 'Down','Distance', 'DistanceToTouchdown', 'ClosestDefenderDistance').summary().show()"
   ]
  },
  {
   "cell_type": "markdown",
   "metadata": {},
   "source": [
    "We then explored the correlations between the variables, specifically focusing in on the relationships with `first_down_gained`. The strongest correlation with `first_down_gained` appeared to be with `Distance`. The correlation matrix revealed a strong negative correlation. "
   ]
  },
  {
   "cell_type": "code",
   "execution_count": 14,
   "metadata": {},
   "outputs": [
    {
     "name": "stderr",
     "output_type": "stream",
     "text": [
      "                                                                                \r"
     ]
    }
   ],
   "source": [
    "from pyspark.ml.stat import Correlation\n",
    "\n",
    "non_string_vars = [ 'X', 'Y', 'S', 'A', 'Dis', 'Orientation', 'Dir', 'YardLine', 'Quarter', 'Down', \n",
    "                   'Distance', 'HomeScoreBeforePlay', 'VisitorScoreBeforePlay', 'NflIdRusher', \n",
    "                   'DefendersInTheBox', 'Yards', 'PlayerWeight', 'Temperature', 'Humidity', 'WindSpeed',\n",
    "                   'DistanceToTouchdown', 'ClosestDefenderDistance', 'first_down_gained'\n",
    "                  ]\n",
    "\n",
    "# convert to vector column first\n",
    "assembler = VectorAssembler(inputCols=non_string_vars, outputCol=\"corr_features\", handleInvalid=\"skip\")\n",
    "df_vector = assembler.transform(df).select(\"corr_features\")\n",
    "\n",
    "# get correlation matrix\n",
    "matrix = Correlation.corr(df_vector, \"corr_features\")"
   ]
  },
  {
   "cell_type": "code",
   "execution_count": 15,
   "metadata": {},
   "outputs": [
    {
     "data": {
      "image/png": "[encoded data removed]",
      "text/plain": [
       "<Figure size 700x700 with 2 Axes>"
      ]
     },
     "metadata": {},
     "output_type": "display_data"
    }
   ],
   "source": [
    "correlation_array = matrix.select(\"pearson(corr_features)\").collect()[0][\"pearson(corr_features)\"].toArray()\n",
    "correlation_df = pd.DataFrame(correlation_array, columns=non_string_vars, index=non_string_vars)\n",
    "\n",
    "# Visualize the correlation matrix using a heatmap\n",
    "plt.figure(figsize=(7, 7))\n",
    "plt.imshow(correlation_df, cmap=\"coolwarm\", interpolation=\"nearest\")\n",
    "plt.colorbar()\n",
    "plt.title(\"Correlation Matrix\")\n",
    "plt.xticks(range(len(non_string_vars)), non_string_vars, rotation=90)\n",
    "plt.yticks(range(len(non_string_vars)), non_string_vars)\n",
    "plt.tight_layout()\n",
    "plt.show()"
   ]
  },
  {
   "cell_type": "markdown",
   "metadata": {},
   "source": [
    "Finally, we explored the distributions of first downs achieved in the dataset using a violin plot and calculated the total numbe of first downs achieved during plays, which resulted in 21.26%. "
   ]
  },
  {
   "cell_type": "code",
   "execution_count": 16,
   "metadata": {},
   "outputs": [
    {
     "name": "stdout",
     "output_type": "stream",
     "text": [
      "23/08/10 13:02:03 WARN package: Truncated the string representation of a plan since it was too large. This behavior can be adjusted by setting 'spark.sql.debug.maxToStringFields'.\n"
     ]
    },
    {
     "name": "stderr",
     "output_type": "stream",
     "text": [
      "                                                                                \r"
     ]
    }
   ],
   "source": [
    "# converting training data to a pandas dataframe for visualization\n",
    "pandas_df = train.toPandas()"
   ]
  },
  {
   "cell_type": "code",
   "execution_count": 17,
   "metadata": {},
   "outputs": [
    {
     "data": {
      "text/plain": [
       "[Text(0, 0, 'No First Down'), Text(1, 0, 'First Down')]"
      ]
     },
     "execution_count": 17,
     "metadata": {},
     "output_type": "execute_result"
    },
    {
     "data": {
      "image/png": "[encoded data removed]",
      "text/plain": [
       "<Figure size 640x480 with 1 Axes>"
      ]
     },
     "metadata": {},
     "output_type": "display_data"
    }
   ],
   "source": [
    "violin = sns.violinplot(data=pandas_df, x=\"first_down_gained\", y=\"Distance\")\n",
    "violin.set_title('Distribution of Distance to First Down: First Down vs No First Down', fontsize=9);\n",
    "violin.set_xticklabels(['No First Down','First Down'])"
   ]
  },
  {
   "cell_type": "code",
   "execution_count": 18,
   "metadata": {},
   "outputs": [
    {
     "name": "stderr",
     "output_type": "stream",
     "text": [
      "                                                                                \r"
     ]
    },
    {
     "name": "stdout",
     "output_type": "stream",
     "text": [
      "Percentage of Plays Resulting in a First Down: 21.26%\n"
     ]
    }
   ],
   "source": [
    "percent_first_downs_gained = df.filter(df['first_down_gained'] == 1).count() / df.count()\n",
    "print('Percentage of Plays Resulting in a First Down: {:.2f}%'.format(percent_first_downs_gained * 100))"
   ]
  },
  {
   "cell_type": "markdown",
   "metadata": {},
   "source": [
    "### Model Construction\n",
    "Each of our models were fit using the training set and validated using cross validation with 5 folds with the validation set. To prepare to evaluate the models, evaluators were created and a function for cross validation was prepared.  "
   ]
  },
  {
   "cell_type": "code",
   "execution_count": 19,
   "metadata": {},
   "outputs": [],
   "source": [
    "# Generating Evaluators\n",
    "\n",
    "from pyspark.ml.evaluation import MulticlassClassificationEvaluator, BinaryClassificationEvaluator\n",
    "\n",
    "evaluator = MulticlassClassificationEvaluator(labelCol=target, predictionCol='prediction')\n",
    "evaluator_b = BinaryClassificationEvaluator(labelCol=target, rawPredictionCol='rawPrediction')"
   ]
  },
  {
   "cell_type": "code",
   "execution_count": 20,
   "metadata": {},
   "outputs": [],
   "source": [
    "from pyspark.ml.classification import LogisticRegression, GBTClassifier, RandomForestClassifier\n",
    "from pyspark.ml.tuning import ParamGridBuilder, CrossValidator\n",
    "\n",
    "\n",
    "def crossvalidation(estimator):\n",
    "    if isinstance(estimator, (LogisticRegression, GBTClassifier)):\n",
    "        paramGrid = ParamGridBuilder().addGrid(estimator.maxIter, [10]).build()\n",
    "    else:\n",
    "        paramGrid = ParamGridBuilder() \\\n",
    "            .addGrid(estimator.numTrees, [10]) \\\n",
    "            .addGrid(estimator.maxDepth, [5]) \\\n",
    "            .build()\n",
    "\n",
    "    crossval = CrossValidator(\n",
    "        estimator=estimator,\n",
    "        estimatorParamMaps=paramGrid,\n",
    "        evaluator=evaluator,\n",
    "        numFolds=5,\n",
    "        parallelism=2,\n",
    "        seed=seed\n",
    "    )\n",
    "    \n",
    "    model = crossval.fit(df)\n",
    "    \n",
    "    return model"
   ]
  },
  {
   "cell_type": "markdown",
   "metadata": {},
   "source": [
    "#### Model 1: Logistic Regression\n",
    "We opted for our benchmark model to be a logistic regression model. Our feature variables were `DefendersInTheBox`, `Down`, `Distance`, `DistanceToTouchdown`, and `ClosestDefenderDistance`, which were assembled into a vector column during preprocessing. Our target variable was `first_down_gained`. The goal is to classify whether or not the play would result in a first down. "
   ]
  },
  {
   "cell_type": "code",
   "execution_count": 21,
   "metadata": {},
   "outputs": [],
   "source": [
    "# Create a logistic regression model\n",
    "lr = LogisticRegression(labelCol=target, featuresCol='features')"
   ]
  },
  {
   "cell_type": "code",
   "execution_count": 22,
   "metadata": {},
   "outputs": [
    {
     "name": "stderr",
     "output_type": "stream",
     "text": [
      "                                                                                \r"
     ]
    }
   ],
   "source": [
    "# data splitting model\n",
    "\n",
    "# Fit the model with the training data (data splitting)\n",
    "lr_model = lr.fit(train)\n",
    "\n",
    "# Predict the target variable on the validation data\n",
    "lr_predictions = lr_model.transform(val)"
   ]
  },
  {
   "cell_type": "code",
   "execution_count": 23,
   "metadata": {},
   "outputs": [
    {
     "name": "stderr",
     "output_type": "stream",
     "text": [
      "                                                                                \r"
     ]
    }
   ],
   "source": [
    "#cross validation model\n",
    "\n",
    "# model with cross validation\n",
    "lr_model_cv = crossvalidation(lr)\n",
    "\n",
    "# predict the target variable on the cross validation model\n",
    "lr_predictions_cv = lr_model_cv.transform(df)"
   ]
  },
  {
   "cell_type": "markdown",
   "metadata": {},
   "source": [
    "After training the model, it was evaluated and accuracy, precision, recall, F1 scores, and AUC were calculated. These scores were followed by the generation of a confusion matrix."
   ]
  },
  {
   "cell_type": "code",
   "execution_count": 24,
   "metadata": {},
   "outputs": [
    {
     "name": "stdout",
     "output_type": "stream",
     "text": [
      "Logistic Regression: Data Splitting Results\n"
     ]
    },
    {
     "name": "stderr",
     "output_type": "stream",
     "text": [
      "                                                                                \r"
     ]
    },
    {
     "name": "stdout",
     "output_type": "stream",
     "text": [
      "Accuracy: 82.59%\n"
     ]
    },
    {
     "name": "stderr",
     "output_type": "stream",
     "text": [
      "                                                                                \r"
     ]
    },
    {
     "name": "stdout",
     "output_type": "stream",
     "text": [
      "Precision: 80.93%\n"
     ]
    },
    {
     "name": "stderr",
     "output_type": "stream",
     "text": [
      "                                                                                \r"
     ]
    },
    {
     "name": "stdout",
     "output_type": "stream",
     "text": [
      "Recall: 82.59%\n"
     ]
    },
    {
     "name": "stderr",
     "output_type": "stream",
     "text": [
      "                                                                                \r"
     ]
    },
    {
     "name": "stdout",
     "output_type": "stream",
     "text": [
      "F1 Score: 0.8089\n"
     ]
    },
    {
     "name": "stderr",
     "output_type": "stream",
     "text": [
      "                                                                                \r"
     ]
    },
    {
     "name": "stdout",
     "output_type": "stream",
     "text": [
      "AUC: 0.7642\n"
     ]
    }
   ],
   "source": [
    "# evaluation metrics of data splitting model\n",
    "print('Logistic Regression: Data Splitting Results')\n",
    "\n",
    "# Accuracy\n",
    "lr_accuracy = evaluator.evaluate(lr_predictions, {evaluator.metricName: 'accuracy'})\n",
    "print('Accuracy: {:.2f}%'.format(lr_accuracy * 100))\n",
    "\n",
    "# Precision\n",
    "lr_precision = evaluator.evaluate(lr_predictions, {evaluator.metricName: 'weightedPrecision'})\n",
    "print('Precision: {:.2f}%'.format(lr_precision * 100))\n",
    "\n",
    "# Recall\n",
    "lr_recall = evaluator.evaluate(lr_predictions, {evaluator.metricName: 'weightedRecall'})\n",
    "print('Recall: {:.2f}%'.format(lr_recall * 100))\n",
    "\n",
    "# F1 Score\n",
    "lr_f1Score = evaluator.evaluate(lr_predictions, {evaluator.metricName: 'f1'})\n",
    "print('F1 Score: {:.4f}'.format(lr_f1Score))\n",
    "\n",
    "# AUC\n",
    "lr_auc = evaluator_b.evaluate(lr_predictions, {evaluator_b.metricName: 'areaUnderROC'})\n",
    "print('AUC: {:.4f}'.format(lr_auc))"
   ]
  },
  {
   "cell_type": "code",
   "execution_count": 25,
   "metadata": {},
   "outputs": [
    {
     "name": "stdout",
     "output_type": "stream",
     "text": [
      "Logistic Regression: Cross-Validation Results\n"
     ]
    },
    {
     "name": "stderr",
     "output_type": "stream",
     "text": [
      "                                                                                \r"
     ]
    },
    {
     "name": "stdout",
     "output_type": "stream",
     "text": [
      "Accuracy: 82.63%\n"
     ]
    },
    {
     "name": "stderr",
     "output_type": "stream",
     "text": [
      "                                                                                \r"
     ]
    },
    {
     "name": "stdout",
     "output_type": "stream",
     "text": [
      "Precision: 80.95%\n"
     ]
    },
    {
     "name": "stderr",
     "output_type": "stream",
     "text": [
      "                                                                                \r"
     ]
    },
    {
     "name": "stdout",
     "output_type": "stream",
     "text": [
      "Recall: 82.63%\n"
     ]
    },
    {
     "name": "stderr",
     "output_type": "stream",
     "text": [
      "                                                                                \r"
     ]
    },
    {
     "name": "stdout",
     "output_type": "stream",
     "text": [
      "F1 Score: 0.8096\n"
     ]
    },
    {
     "name": "stderr",
     "output_type": "stream",
     "text": [
      "                                                                                \r"
     ]
    },
    {
     "name": "stdout",
     "output_type": "stream",
     "text": [
      "AUC: 0.7625\n"
     ]
    }
   ],
   "source": [
    "# evaluation metrics of cross validation model\n",
    "print('Logistic Regression: Cross-Validation Results')\n",
    "\n",
    "# Accuracy\n",
    "lr_accuracy_cv = evaluator.evaluate(lr_predictions_cv, {evaluator.metricName: 'accuracy'})\n",
    "print('Accuracy: {:.2f}%'.format(lr_accuracy_cv * 100))\n",
    "\n",
    "# Precision\n",
    "lr_precision_cv = evaluator.evaluate(lr_predictions_cv, {evaluator.metricName: 'weightedPrecision'})\n",
    "print('Precision: {:.2f}%'.format(lr_precision_cv * 100))\n",
    "\n",
    "# Recall\n",
    "lr_recall_cv = evaluator.evaluate(lr_predictions_cv, {evaluator.metricName: 'weightedRecall'})\n",
    "print('Recall: {:.2f}%'.format(lr_recall_cv * 100))\n",
    "\n",
    "# F1 Score\n",
    "lr_f1Score_cv = evaluator.evaluate(lr_predictions_cv, {evaluator.metricName: 'f1'})\n",
    "print('F1 Score: {:.4f}'.format(lr_f1Score_cv))\n",
    "\n",
    "# AUC\n",
    "lr_auc_cv = evaluator_b.evaluate(lr_predictions_cv, {evaluator_b.metricName: 'areaUnderROC'})\n",
    "print('AUC: {:.4f}'.format(lr_auc_cv))"
   ]
  },
  {
   "cell_type": "code",
   "execution_count": 26,
   "metadata": {},
   "outputs": [
    {
     "name": "stderr",
     "output_type": "stream",
     "text": [
      "                                                                                \r"
     ]
    },
    {
     "data": {
      "image/png": "[encoded data removed]",
      "text/plain": [
       "<Figure size 800x600 with 2 Axes>"
      ]
     },
     "metadata": {},
     "output_type": "display_data"
    }
   ],
   "source": [
    "from sklearn.metrics import confusion_matrix\n",
    "\n",
    "# Data Splitting Confusion Matrix\n",
    "\n",
    "# Convert PySpark DataFrame columns to lists\n",
    "y_true = [row[0] for row in lr_predictions.select(target).collect()]\n",
    "y_pred = [row[0] for row in lr_predictions.select('prediction').collect()]\n",
    "\n",
    "# Compute the confusion matrix\n",
    "cm = confusion_matrix(y_true, y_pred)\n",
    "cm_normalized = confusion_matrix(y_true, y_pred, normalize='all')\n",
    "\n",
    "# Combine the raw counts with the normalized percentages\n",
    "combined_cm = np.array([[f'{c} ({p * 100:.2f}%)' for c, p in zip(row_c, row_p)] for row_c, row_p in zip(cm, cm_normalized)])\n",
    "\n",
    "# Visualize the combined confusion matrix using Seaborn's heatmap\n",
    "plt.figure(figsize=(8,6))\n",
    "sns.heatmap(cm_normalized, annot=combined_cm, fmt='', cmap='Blues', \n",
    "            xticklabels=['First Down Not Gained', 'First Down Gained'], \n",
    "            yticklabels=['First Down Not Gained', 'First Down Gained'])\n",
    "plt.xlabel('Predicted')\n",
    "plt.ylabel('Actual')\n",
    "plt.title('Logistic Regression Confusion Matrix: Data Splitting')\n",
    "plt.show()"
   ]
  },
  {
   "cell_type": "code",
   "execution_count": 27,
   "metadata": {},
   "outputs": [
    {
     "name": "stderr",
     "output_type": "stream",
     "text": [
      "                                                                                \r"
     ]
    },
    {
     "data": {
      "image/png": "[encoded data removed]",
      "text/plain": [
       "<Figure size 800x600 with 2 Axes>"
      ]
     },
     "metadata": {},
     "output_type": "display_data"
    }
   ],
   "source": [
    "# Cross-Validation Confusion Matrix\n",
    "\n",
    "# Convert PySpark DataFrame columns to lists\n",
    "y_true = [row[0] for row in lr_predictions_cv.select(target).collect()]\n",
    "y_pred = [row[0] for row in lr_predictions_cv.select('prediction').collect()]\n",
    "\n",
    "# Compute the confusion matrix\n",
    "cm = confusion_matrix(y_true, y_pred)\n",
    "cm_normalized = confusion_matrix(y_true, y_pred, normalize='all')\n",
    "\n",
    "# Combine the raw counts with the normalized percentages\n",
    "combined_cm = np.array([[f'{c} ({p * 100:.2f}%)' for c, p in zip(row_c, row_p)] for row_c, row_p in zip(cm, cm_normalized)])\n",
    "\n",
    "# Visualize the combined confusion matrix using Seaborn's heatmap\n",
    "plt.figure(figsize=(8,6))\n",
    "sns.heatmap(cm_normalized, annot=combined_cm, fmt='', cmap='Blues', \n",
    "            xticklabels=['First Down Not Gained', 'First Down Gained'], \n",
    "            yticklabels=['First Down Not Gained', 'First Down Gained'])\n",
    "plt.xlabel('Predicted')\n",
    "plt.ylabel('Actual')\n",
    "plt.title('Logistic Regression Confusion Matrix: Cross-Validation')\n",
    "plt.show()"
   ]
  },
  {
   "cell_type": "markdown",
   "metadata": {},
   "source": [
    "Overall, this model performed decently. As a simple benchmark model, we resulted in an accuracy of 82.59%. The precision and recall rates were also decent, returning 80.93% an 82.59% respectively. The F1 Score was 0.8089 and the AUC was 0.7642. \n",
    "\n",
    "When running the model a second time with k-fold cross-validation, the metrics improved slightly to an accuracy of 82.63%, precision of 80.95%, recall of 82.63%, F1 score of 0.8096, and AUC of 0.7625. \n",
    "\n",
    "Based on these benchmark models, we are hoping we can at least achieve an AUC of 0.8 with our following models. "
   ]
  },
  {
   "cell_type": "markdown",
   "metadata": {},
   "source": [
    "#### Model 2: Gradient Boosted Tree\n",
    "Our second model was a gradient boosted tree. We selected a gradient boosted tree as this ensemble model performs classification or regression by combining outputs from individual trees. Gradient boosted trees utilize boosting, which utilizes weak learners sequentially to correct errors from previous trees. "
   ]
  },
  {
   "cell_type": "code",
   "execution_count": 28,
   "metadata": {},
   "outputs": [],
   "source": [
    "# Create the DBT Model\n",
    "gbt = GBTClassifier(labelCol=target, featuresCol='features', seed=seed)"
   ]
  },
  {
   "cell_type": "code",
   "execution_count": 29,
   "metadata": {},
   "outputs": [
    {
     "name": "stderr",
     "output_type": "stream",
     "text": [
      "                                                                                \r"
     ]
    }
   ],
   "source": [
    "# data splitting model\n",
    "\n",
    "# Fit the model with the training data (data splitting)\n",
    "gbt_model = gbt.fit(train)\n",
    "\n",
    "# Predict the target variable on the validation data\n",
    "gbt_predictions = gbt_model.transform(val)"
   ]
  },
  {
   "cell_type": "code",
   "execution_count": 30,
   "metadata": {},
   "outputs": [
    {
     "name": "stderr",
     "output_type": "stream",
     "text": [
      "                                                                                \r"
     ]
    }
   ],
   "source": [
    "# cross validation model\n",
    "\n",
    "# model with cross validation\n",
    "gbt_model_cv = crossvalidation(gbt)\n",
    "\n",
    "# predict the target variable on the cross validation model\n",
    "gbt_predictions_cv = gbt_model_cv.transform(df)"
   ]
  },
  {
   "cell_type": "code",
   "execution_count": 31,
   "metadata": {},
   "outputs": [
    {
     "name": "stdout",
     "output_type": "stream",
     "text": [
      "Gradient Boosted Tree: Data Splitting Results\n"
     ]
    },
    {
     "name": "stderr",
     "output_type": "stream",
     "text": [
      "                                                                                \r"
     ]
    },
    {
     "name": "stdout",
     "output_type": "stream",
     "text": [
      "Accuracy: 83.15%\n"
     ]
    },
    {
     "name": "stderr",
     "output_type": "stream",
     "text": [
      "                                                                                \r"
     ]
    },
    {
     "name": "stdout",
     "output_type": "stream",
     "text": [
      "Precision: 81.66%\n"
     ]
    },
    {
     "name": "stderr",
     "output_type": "stream",
     "text": [
      "                                                                                \r"
     ]
    },
    {
     "name": "stdout",
     "output_type": "stream",
     "text": [
      "Recall: 83.15%\n"
     ]
    },
    {
     "name": "stderr",
     "output_type": "stream",
     "text": [
      "                                                                                \r"
     ]
    },
    {
     "name": "stdout",
     "output_type": "stream",
     "text": [
      "F1 Score: 0.8158\n"
     ]
    },
    {
     "name": "stderr",
     "output_type": "stream",
     "text": [
      "                                                                                \r"
     ]
    },
    {
     "name": "stdout",
     "output_type": "stream",
     "text": [
      "AUC: 0.7793\n"
     ]
    }
   ],
   "source": [
    "# evaluation metrics of data splitting model\n",
    "print('Gradient Boosted Tree: Data Splitting Results')\n",
    "\n",
    "# Accuracy\n",
    "gbt_accuracy = evaluator.evaluate(gbt_predictions, {evaluator.metricName: 'accuracy'})\n",
    "print('Accuracy: {:.2f}%'.format(gbt_accuracy * 100))\n",
    "\n",
    "# Precision\n",
    "gbt_precision = evaluator.evaluate(gbt_predictions, {evaluator.metricName: 'weightedPrecision'})\n",
    "print('Precision: {:.2f}%'.format(gbt_precision * 100))\n",
    "\n",
    "# Recall\n",
    "gbt_recall = evaluator.evaluate(gbt_predictions, {evaluator.metricName: 'weightedRecall'})\n",
    "print('Recall: {:.2f}%'.format(gbt_recall * 100))\n",
    "\n",
    "# F1 Score\n",
    "gbt_f1Score = evaluator.evaluate(gbt_predictions, {evaluator.metricName: 'f1'})\n",
    "print('F1 Score: {:.4f}'.format(gbt_f1Score))\n",
    "\n",
    "# AUC\n",
    "gbt_auc = evaluator_b.evaluate(gbt_predictions, {evaluator_b.metricName: 'areaUnderROC'})\n",
    "print('AUC: {:.4f}'.format(gbt_auc))"
   ]
  },
  {
   "cell_type": "code",
   "execution_count": 32,
   "metadata": {},
   "outputs": [
    {
     "name": "stdout",
     "output_type": "stream",
     "text": [
      "Gradient Boosted Tree: Cross-Validation Results\n"
     ]
    },
    {
     "name": "stderr",
     "output_type": "stream",
     "text": [
      "                                                                                \r"
     ]
    },
    {
     "name": "stdout",
     "output_type": "stream",
     "text": [
      "Accuracy: 82.98%\n"
     ]
    },
    {
     "name": "stderr",
     "output_type": "stream",
     "text": [
      "                                                                                \r"
     ]
    },
    {
     "name": "stdout",
     "output_type": "stream",
     "text": [
      "Precision: 81.41%\n"
     ]
    },
    {
     "name": "stderr",
     "output_type": "stream",
     "text": [
      "                                                                                \r"
     ]
    },
    {
     "name": "stdout",
     "output_type": "stream",
     "text": [
      "Recall: 82.98%\n"
     ]
    },
    {
     "name": "stderr",
     "output_type": "stream",
     "text": [
      "                                                                                \r"
     ]
    },
    {
     "name": "stdout",
     "output_type": "stream",
     "text": [
      "F1 Score: 0.8143\n"
     ]
    },
    {
     "name": "stderr",
     "output_type": "stream",
     "text": [
      "[Stage 3196:>                                                       (0 + 2) / 2]\r"
     ]
    },
    {
     "name": "stdout",
     "output_type": "stream",
     "text": [
      "AUC: 0.7750\n"
     ]
    },
    {
     "name": "stderr",
     "output_type": "stream",
     "text": [
      "                                                                                \r"
     ]
    }
   ],
   "source": [
    "# evaluation metrics of cross-validation model\n",
    "print('Gradient Boosted Tree: Cross-Validation Results')\n",
    "\n",
    "# Accuracy\n",
    "gbt_accuracy_cv = evaluator.evaluate(gbt_predictions_cv, {evaluator.metricName: 'accuracy'})\n",
    "print('Accuracy: {:.2f}%'.format(gbt_accuracy_cv * 100))\n",
    "\n",
    "# Precision\n",
    "gbt_precision_cv = evaluator.evaluate(gbt_predictions_cv, {evaluator.metricName: 'weightedPrecision'})\n",
    "print('Precision: {:.2f}%'.format(gbt_precision_cv * 100))\n",
    "\n",
    "# Recall\n",
    "gbt_recall_cv = evaluator.evaluate(gbt_predictions_cv, {evaluator.metricName: 'weightedRecall'})\n",
    "print('Recall: {:.2f}%'.format(gbt_recall_cv * 100))\n",
    "\n",
    "# F1 Score\n",
    "gbt_f1Score_cv = evaluator.evaluate(gbt_predictions_cv, {evaluator.metricName: 'f1'})\n",
    "print('F1 Score: {:.4f}'.format(gbt_f1Score_cv))\n",
    "\n",
    "# AUC\n",
    "gbt_auc_cv = evaluator_b.evaluate(gbt_predictions_cv, {evaluator_b.metricName: 'areaUnderROC'})\n",
    "print('AUC: {:.4f}'.format(gbt_auc_cv))"
   ]
  },
  {
   "cell_type": "code",
   "execution_count": 33,
   "metadata": {},
   "outputs": [
    {
     "data": {
      "image/png": "[encoded data removed]",
      "text/plain": [
       "<Figure size 640x480 with 1 Axes>"
      ]
     },
     "metadata": {},
     "output_type": "display_data"
    }
   ],
   "source": [
    "# importance of variables for data splitting model\n",
    "\n",
    "# Assuming 'model' is the trained RandomForestClassifier or RandomForestRegressor\n",
    "gbt_importances = gbt_model.featureImportances\n",
    "\n",
    "# Convert feature importances to a Pandas DataFrame for easier visualization\n",
    "gbt_importances_df = pd.DataFrame(gbt_importances.toArray(), columns=['Importance'], index=features)\n",
    "\n",
    "# Sort the features by importance and plot a bar chart\n",
    "gbt_importances_df.sort_values(by='Importance', ascending=False).plot(kind='bar')\n",
    "plt.title('Feature Importances for Gradient Boosting')\n",
    "plt.xlabel('Features')\n",
    "plt.ylabel('Importance')\n",
    "plt.show()"
   ]
  },
  {
   "cell_type": "markdown",
   "metadata": {},
   "source": [
    "The data splitting gradient boosting model returned higher metrics than our benchmark logistic regression model, improving on every metric in both the data splitting cross-validation model and the k-folds cross-validation model. For the data splitting model, our metrics resulted in an accuracy of 83.15%, precision of 81.66%, recall of 83.15%, F1 score of 0.8158, and AUC of 0.7793. The k-fold cross-validated model performed only slightly worse than with data splitting returning an accuracy of 82.98%, precision of 81.41%, recall of 82.98%, F1 score of 0.8143, and AUC of 0.7750. \n",
    "\n",
    "The gradient boosting models returned the most important variable as Distance. This was not a surprising result given the suggestions from EDA prior to model construction."
   ]
  },
  {
   "cell_type": "markdown",
   "metadata": {},
   "source": [
    "#### Model 3: Random Forest\n",
    "The final model generated was a random forest model. Random forests, like gradient boosted trees, is an ensemble model that can perform classification or regression by combining outputs from individual trees. The primary difference between gradient boosted trees and random forests is random forests utilize the bagging method to construct individual decision trees. "
   ]
  },
  {
   "cell_type": "code",
   "execution_count": 34,
   "metadata": {},
   "outputs": [],
   "source": [
    "# Create the RandomForestClassifier\n",
    "rf = RandomForestClassifier(numTrees=10, maxDepth=5, labelCol=target, featuresCol='features', seed=seed)"
   ]
  },
  {
   "cell_type": "code",
   "execution_count": 35,
   "metadata": {},
   "outputs": [
    {
     "name": "stderr",
     "output_type": "stream",
     "text": [
      "                                                                                \r"
     ]
    }
   ],
   "source": [
    "# data splitting model\n",
    "\n",
    "# Train the model\n",
    "rf_model = rf.fit(train)\n",
    "\n",
    "# Make predictions on the test set\n",
    "rf_predictions = rf_model.transform(test)"
   ]
  },
  {
   "cell_type": "code",
   "execution_count": 36,
   "metadata": {},
   "outputs": [
    {
     "name": "stderr",
     "output_type": "stream",
     "text": [
      "[Stage 3673:============================>                           (1 + 1) / 2]\r"
     ]
    }
   ],
   "source": [
    "# cross-validation model\n",
    "\n",
    "# model with cross validation\n",
    "rf_model_cv = crossvalidation(rf)\n",
    "\n",
    "# predict the target variable on the cross validation model\n",
    "rf_predictions_cv = rf_model_cv.transform(df)"
   ]
  },
  {
   "cell_type": "code",
   "execution_count": 37,
   "metadata": {},
   "outputs": [
    {
     "name": "stdout",
     "output_type": "stream",
     "text": [
      "Random Forest: Data Splitting Results\n"
     ]
    },
    {
     "name": "stderr",
     "output_type": "stream",
     "text": [
      "                                                                                \r"
     ]
    },
    {
     "name": "stdout",
     "output_type": "stream",
     "text": [
      "Accuracy: 82.95%\n"
     ]
    },
    {
     "name": "stderr",
     "output_type": "stream",
     "text": [
      "                                                                                \r"
     ]
    },
    {
     "name": "stdout",
     "output_type": "stream",
     "text": [
      "Precision: 81.33%\n"
     ]
    },
    {
     "name": "stderr",
     "output_type": "stream",
     "text": [
      "                                                                                \r"
     ]
    },
    {
     "name": "stdout",
     "output_type": "stream",
     "text": [
      "Recall: 82.95%\n"
     ]
    },
    {
     "name": "stderr",
     "output_type": "stream",
     "text": [
      "                                                                                \r"
     ]
    },
    {
     "name": "stdout",
     "output_type": "stream",
     "text": [
      "F1 Score: 0.8139\n"
     ]
    },
    {
     "name": "stderr",
     "output_type": "stream",
     "text": [
      "[Stage 3732:============================>                           (1 + 1) / 2]\r"
     ]
    },
    {
     "name": "stdout",
     "output_type": "stream",
     "text": [
      "AUC: 0.7604\n"
     ]
    },
    {
     "name": "stderr",
     "output_type": "stream",
     "text": [
      "                                                                                \r"
     ]
    }
   ],
   "source": [
    "# evaluation metrics of data splitting model\n",
    "print('Random Forest: Data Splitting Results')\n",
    "\n",
    "rf_accuracy = evaluator.evaluate(rf_predictions, {evaluator.metricName: 'accuracy'})\n",
    "print('Accuracy: {:.2f}%'.format(rf_accuracy * 100))\n",
    "\n",
    "rf_precision = evaluator.evaluate(rf_predictions, {evaluator.metricName: 'weightedPrecision'})\n",
    "print('Precision: {:.2f}%'.format(rf_precision * 100))\n",
    "\n",
    "rf_recall = evaluator.evaluate(rf_predictions, {evaluator.metricName: 'weightedRecall'})\n",
    "print('Recall: {:.2f}%'.format(rf_recall * 100))\n",
    "\n",
    "rf_f1Score = evaluator.evaluate(rf_predictions, {evaluator.metricName: 'f1'})\n",
    "print('F1 Score: {:.4f}'.format(rf_f1Score))\n",
    "\n",
    "rf_auc = evaluator_b.evaluate(rf_predictions, {evaluator_b.metricName: 'areaUnderROC'})\n",
    "print('AUC: {:.4f}'.format(rf_auc))"
   ]
  },
  {
   "cell_type": "code",
   "execution_count": 38,
   "metadata": {},
   "outputs": [
    {
     "name": "stdout",
     "output_type": "stream",
     "text": [
      "Random Forest: Cross-Validation Results\n"
     ]
    },
    {
     "name": "stderr",
     "output_type": "stream",
     "text": [
      "                                                                                \r"
     ]
    },
    {
     "name": "stdout",
     "output_type": "stream",
     "text": [
      "Accuracy: 82.87%\n"
     ]
    },
    {
     "name": "stderr",
     "output_type": "stream",
     "text": [
      "                                                                                \r"
     ]
    },
    {
     "name": "stdout",
     "output_type": "stream",
     "text": [
      "Precision: 81.29%\n"
     ]
    },
    {
     "name": "stderr",
     "output_type": "stream",
     "text": [
      "                                                                                \r"
     ]
    },
    {
     "name": "stdout",
     "output_type": "stream",
     "text": [
      "Recall: 82.87%\n"
     ]
    },
    {
     "name": "stderr",
     "output_type": "stream",
     "text": [
      "                                                                                \r"
     ]
    },
    {
     "name": "stdout",
     "output_type": "stream",
     "text": [
      "F1 Score: 0.8135\n"
     ]
    },
    {
     "name": "stderr",
     "output_type": "stream",
     "text": [
      "[Stage 3797:>                                                       (0 + 2) / 2]\r"
     ]
    },
    {
     "name": "stdout",
     "output_type": "stream",
     "text": [
      "AUC: 0.7623\n"
     ]
    },
    {
     "name": "stderr",
     "output_type": "stream",
     "text": [
      "                                                                                \r"
     ]
    }
   ],
   "source": [
    "# evaluation metrics of cross-validation model\n",
    "print('Random Forest: Cross-Validation Results')\n",
    "\n",
    "rf_accuracy_cv = evaluator.evaluate(rf_predictions_cv, {evaluator.metricName: 'accuracy'})\n",
    "print('Accuracy: {:.2f}%'.format(rf_accuracy_cv * 100))\n",
    "\n",
    "rf_precision_cv = evaluator.evaluate(rf_predictions_cv, {evaluator.metricName: 'weightedPrecision'})\n",
    "print('Precision: {:.2f}%'.format(rf_precision_cv * 100))\n",
    "\n",
    "rf_recall_cv = evaluator.evaluate(rf_predictions_cv, {evaluator.metricName: 'weightedRecall'})\n",
    "print('Recall: {:.2f}%'.format(rf_recall_cv * 100))\n",
    "\n",
    "rf_f1Score_cv = evaluator.evaluate(rf_predictions_cv, {evaluator.metricName: 'f1'})\n",
    "print('F1 Score: {:.4f}'.format(rf_f1Score_cv))\n",
    "\n",
    "rf_auc_cv = evaluator_b.evaluate(rf_predictions_cv, {evaluator_b.metricName: 'areaUnderROC'})\n",
    "print('AUC: {:.4f}'.format(rf_auc_cv))"
   ]
  },
  {
   "cell_type": "code",
   "execution_count": 39,
   "metadata": {},
   "outputs": [
    {
     "data": {
      "image/png": "[encoded data removed]",
      "text/plain": [
       "<Figure size 640x480 with 1 Axes>"
      ]
     },
     "metadata": {},
     "output_type": "display_data"
    }
   ],
   "source": [
    "# importance of variables\n",
    "\n",
    "# Assuming 'model' is the trained RandomForestClassifier or RandomForestRegressor\n",
    "rf_importances = rf_model.featureImportances\n",
    "\n",
    "# Convert feature importances to a Pandas DataFrame for easier visualization\n",
    "rf_importances_df = pd.DataFrame(rf_importances.toArray(), columns=['Importance'], index=features)\n",
    "\n",
    "# Sort the features by importance and plot a bar chart\n",
    "rf_importances_df.sort_values(by='Importance', ascending=False).plot(kind='bar')\n",
    "plt.title('Feature Importances for Random Forest')\n",
    "plt.xlabel('Features')\n",
    "plt.ylabel('Importance')\n",
    "plt.show()"
   ]
  },
  {
   "cell_type": "markdown",
   "metadata": {},
   "source": [
    "In the random forest model the variable Distance was the resounding most important variable in the model, agreeing with the gradient boosting model’s most important variable and analysis from EDA. The second most important variables, though appearing to be significantly less important than Distance, were different between the random forest model and the gradient boosting model. "
   ]
  },
  {
   "cell_type": "markdown",
   "metadata": {},
   "source": [
    "### Model Evaluation\n",
    "All of the models generated performed fairly similarly. Overall, the best performance was the gradient boosted tree. Our champion gradient boosted models performed slightly better than the other models with all metrics, both with data splitting and k-fold cross-validation. \n",
    "\n",
    "\n",
    "| Model                                | Accuracy | Precision | Recall | F1 Score | AUC    |\n",
    "|--------------------------------------|----------|-----------|--------|----------|--------|\n",
    "| Logistic Regression (Data Splitting) | 82.59%   | 80.93%    | 82.59% | 0.8089   | 0.7642 |\n",
    "| Logistic Regression (k-Fold CV)      | 82.63%   | 80.95%    | 82.63% | 0.8096   | 0.7625 |\n",
    "| Gradient Boosting (Data Splitting)   | 83.15%   | 81.66%    | 83.15% | 0.8158   | 0.7793 |\n",
    "| Gradient Boosting (k-Fold CV)        | 82.98%   | 81.41%    | 82.98% | 0.8143   | 0.7750 |\n",
    "| Random Forest (Data Splitting)       | 82.95%   | 81.33%    | 82.95% | 0.8139   | 0.7604 |\n",
    "| Random Forest (k-Fold CV)            | 82.87%   | 81.29%    | 82.87% | 0.8135   | 0.7623 |"
   ]
  },
  {
   "cell_type": "code",
   "execution_count": null,
   "metadata": {},
   "outputs": [],
   "source": []
  }
 ],
 "metadata": {
  "kernelspec": {
   "display_name": "Python 3 (ipykernel)",
   "language": "python",
   "name": "python3"
  },
  "language_info": {
   "codemirror_mode": {
    "name": "ipython",
    "version": 3
   },
   "file_extension": ".py",
   "mimetype": "text/x-python",
   "name": "python",
   "nbconvert_exporter": "python",
   "pygments_lexer": "ipython3",
   "version": "3.11.3"
  }
 },
 "nbformat": 4,
 "nbformat_minor": 4
}
