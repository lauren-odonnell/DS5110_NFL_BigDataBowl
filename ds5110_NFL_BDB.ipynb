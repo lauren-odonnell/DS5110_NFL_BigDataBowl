{
 "cells": [
  {
   "cell_type": "markdown",
   "metadata": {},
   "source": [
    "# DS 5110 Final Project\n",
    "## 2020 NFL Big Data Bowl\n",
    "### Group 3: Anoop Nath, Lauren O'Donnell, OC Ofoma"
   ]
  },
  {
   "cell_type": "markdown",
   "metadata": {},
   "source": [
    "### Introduction\n",
    "Our final project is completing the [NFL Big Data Bowl](https://www.kaggle.com/competitions/nfl-big-data-bowl-2020/overview) prompt from 2020. This competition was hosted on Kaggle and asks the participants to compute the Continuous Ranked Probability Score (CRPS) for each play. The CRPS indicates the probability that a team gains that many yards on the play. The CRPS is computed by: \n",
    "\n",
    "$$\n",
    "C = \\dfrac{1}{1199} \\sum^N_{m=1} \\sum^{99}_{n=-99} (P(y \\leq n) H(n-Y_m))^2\n",
    "$$\n",
    "\n",
    "where P is the predicted distribution, $N$ is the number of plays in the test set, $Y$ is the actual yardage and $H(x)$ is the Heaviside step function $(H(x) = 1$ for $x \\geq 0$ and zero otherwise).\n",
    "\n",
    "The submission will not score if any of the predicted values has $P(y \\leq k) \\ge P(y \\leq k + 1)$ for any $k$ (i.e. the CDF must be non-decreasing).\n",
    "\n",
    "Our initial goal was to compute the CRPS; however, we opted to focus on a more simple goal of predicting whether or not a play would result in a first down. As part of the DS 5110 project requirements, we generated three models utilizing techniques from this course in `pyspark`. "
   ]
  },
  {
   "cell_type": "markdown",
   "metadata": {},
   "source": [
    "### Importing Dataset\n",
    "The data were provided as part of the [2020 NFL Big Data Bowl](https://www.kaggle.com/competitions/nfl-big-data-bowl-2020/) hosted on Kaggle. For this project, the data were downloaded from Kaggle locally and uploaded to a shared location. \n",
    "\n",
    "We utilized the resources on Rivanna to execute our project. Our data was stored and shared on Rivanna for us to use in one singular location. Code was shared on our [GitHub Repository](https://github.com/lauren-odonnell/DS5110_NFL_BigDataBowl). Please note that as the data file is rather large, it is not housed in GitHub and can be downloaded via the [2020 NFL Big Data Bowl](https://www.kaggle.com/competitions/nfl-big-data-bowl-2020/) page.\n",
    "\n",
    "A data dictionary was provided by the 2020 NFL Big Data Bowl and used as a schema to import the data. The variables are described below.\n",
    "\n",
    "* `GameId` - a unique game identifier\n",
    "* `PlayId` - a unique play identifier\n",
    "* `Team` - home or away\n",
    "* `X` - player position along the long axis of the field. See figure below.\n",
    "* `Y` - player position along the short axis of the field. See figure below.\n",
    "* `S` - speed in yards/second\n",
    "* `A` - acceleration in yards/second^2\n",
    "* `Dis` - distance traveled from prior time point, in yards\n",
    "* `Orientation` - orientation of player (deg)\n",
    "* `Dir` - angle of player motion (deg)\n",
    "* `NflId` - a unique identifier of the player\n",
    "* `DisplayName` - player's name\n",
    "* `JerseyNumber` - jersey number\n",
    "* `Season` - year of the season\n",
    "* `YardLine` - the yard line of the line of scrimmage\n",
    "* `Quarter` - game quarter (1-5, 5 == overtime)\n",
    "* `GameClock` - time on the game clock\n",
    "* `PossessionTeam` - team with possession\n",
    "* `Down` - the down (1-4)\n",
    "* `Distance` - yards needed for a first down\n",
    "* `FieldPosition` - which side of the field the play is happening on\n",
    "* `HomeScoreBeforePlay` - home team score before play started\n",
    "* `VisitorScoreBeforePlay` - visitor team score before play started\n",
    "* `NflIdRusher` - the NflId of the rushing player\n",
    "* `OffenseFormation` - offense formation\n",
    "* `OffensePersonnel` - offensive team positional grouping\n",
    "* `DefendersInTheBox` - number of defenders lined up near the line of scrimmage, spanning the width of the offensive line\n",
    "* `DefensePersonnel` - defensive team positional grouping\n",
    "* `PlayDirection` - direction the play is headed\n",
    "* `TimeHandoff` - UTC time of the handoff\n",
    "* `TimeSnap` - UTC time of the snap\n",
    "* `Yards` - the yardage gained on the play\n",
    "* `PlayerHeight` - player height (ft-in)\n",
    "* `PlayerWeight` - player weight (lbs)\n",
    "* `PlayerBirthDate` - birth date (mm/dd/yyyy)\n",
    "* `PlayerCollegeName` - where the player attended college\n",
    "* `Position` - the player's position (the specific role on the field that they typically play)\n",
    "* `HomeTeamAbbr` - home team abbreviation\n",
    "* `VisitorTeamAbbr` - visitor team abbreviation\n",
    "* `Week` - week into the season\n",
    "* `Stadium` - stadium where the game is being played\n",
    "* `Location` - city where the game is being played\n",
    "* `StadiumType` - description of the stadium environment\n",
    "* `Turf` - description of the field surface\n",
    "* `GameWeather` - description of the game weather\n",
    "* `Temperature` - temperature (deg F)\n",
    "* `Humidity` - humidity\n",
    "* `WindSpeed` - wind speed in miles/hour\n",
    "* `WindDirection` - wind direction* \n",
    "\n",
    "\n",
    "<img src=\"NFL_Data_Dictionary.png\">  "
   ]
  },
  {
   "cell_type": "code",
   "execution_count": 1,
   "metadata": {},
   "outputs": [
    {
     "name": "stdout",
     "output_type": "stream",
     "text": [
      "/sfs/qumulo/qhome/qsq6zz/ds5110/project\n"
     ]
    },
    {
     "name": "stderr",
     "output_type": "stream",
     "text": [
      "/opt/conda/lib/python3.7/site-packages/pyspark/bin/load-spark-env.sh: line 68: ps: command not found\n",
      "Setting default log level to \"WARN\".\n",
      "To adjust logging level use sc.setLogLevel(newLevel). For SparkR, use setLogLevel(newLevel).\n"
     ]
    },
    {
     "name": "stdout",
     "output_type": "stream",
     "text": [
      "23/08/09 07:05:36 WARN NativeCodeLoader: Unable to load native-hadoop library for your platform... using builtin-java classes where applicable\n"
     ]
    }
   ],
   "source": [
    "import os\n",
    "print(os.getcwd())\n",
    "\n",
    "from pyspark.sql import SparkSession\n",
    "\n",
    "spark = SparkSession.builder \\\n",
    "        .appName(\"NFL_data\") \\\n",
    "        .getOrCreate()"
   ]
  },
  {
   "cell_type": "code",
   "execution_count": 2,
   "metadata": {},
   "outputs": [],
   "source": [
    "# setting dataset schema for import\n",
    "\n",
    "# import data types\n",
    "from pyspark.sql.types import StructType, StructField, StringType, IntegerType, FloatType, TimestampType, DateType, LongType\n",
    "schema = StructType([\n",
    "    StructField('GameId', IntegerType(), True),\n",
    "    StructField('PlayId', LongType(), True), \n",
    "    StructField('Team', StringType(), True), \n",
    "    StructField('X', FloatType(), True), \n",
    "    StructField('Y', FloatType(), True), \n",
    "    StructField('S', FloatType(), True), \n",
    "    StructField('A', FloatType(), True), \n",
    "    StructField('Dis', FloatType(), True), \n",
    "    StructField('Orientation', FloatType(), True), \n",
    "    StructField('Dir', FloatType(), True), \n",
    "    StructField('NflId', IntegerType(), True), \n",
    "    StructField('DisplayName', StringType(), True), \n",
    "    StructField('JerseyNumber', IntegerType(), True), \n",
    "    StructField('Season', IntegerType(), True), \n",
    "    StructField('YardLine', IntegerType(), True), \n",
    "    StructField('Quarter', IntegerType(), True), \n",
    "    StructField('GameClock', TimestampType(), True), \n",
    "    StructField('PossessionTeam', StringType(), True), \n",
    "    StructField('Down', IntegerType(), True), \n",
    "    StructField('Distance', IntegerType(), True), \n",
    "    StructField('FieldPosition', StringType(), True), \n",
    "    StructField('HomeScoreBeforePlay', IntegerType(), True), \n",
    "    StructField('VisitorScoreBeforePlay', IntegerType(), True), \n",
    "    StructField('NflIdRusher', IntegerType(), True), \n",
    "    StructField('OffenseFormation', StringType(), True), \n",
    "    StructField('OffensePersonnel', StringType(), True), \n",
    "    StructField('DefendersInTheBox', IntegerType(), True), \n",
    "    StructField('DefensePersonnel', StringType(), True), \n",
    "    StructField('PlayDirection', StringType(), True), \n",
    "    StructField('TimeHandoff', TimestampType(), True), \n",
    "    StructField('TimeSnap', TimestampType(), True), \n",
    "    StructField('Yards', IntegerType(), True), \n",
    "    StructField('PlayerHeight', StringType(), True), \n",
    "    StructField('PlayerWeight', IntegerType(), True), \n",
    "    StructField('PlayerBirthDate', DateType(), True), \n",
    "    StructField('PlayerCollegeName', StringType(), True), \n",
    "    StructField('Position', StringType(), True), \n",
    "    StructField('HomeTeamAbbr', StringType(), True), \n",
    "    StructField('VisitorTeamAbbr', StringType(), True), \n",
    "    StructField('Week', IntegerType(), True), \n",
    "    StructField('Stadium', StringType(), True), \n",
    "    StructField('Location', StringType(), True), \n",
    "    StructField('StadiumType', StringType(), True), \n",
    "    StructField('Turf', StringType(), True), \n",
    "    StructField('GameWeather', StringType(), True), \n",
    "    StructField('Temperature', IntegerType(), True), \n",
    "    StructField('Humidity', IntegerType(), True), \n",
    "    StructField('WindSpeed', IntegerType(), True), \n",
    "    StructField('WindDirection', StringType(), True)])"
   ]
  },
  {
   "cell_type": "code",
   "execution_count": 3,
   "metadata": {},
   "outputs": [],
   "source": [
    "path = '/sfs/qumulo/qhome/nux9aq/project/data.csv' # update as necessary; current is the shared location containing the data\n",
    "\n",
    "df = spark.read.csv(path, header = True, schema = schema)"
   ]
  },
  {
   "cell_type": "code",
   "execution_count": 4,
   "metadata": {},
   "outputs": [
    {
     "name": "stderr",
     "output_type": "stream",
     "text": [
      "[Stage 0:=============================>                             (1 + 1) / 2]\r"
     ]
    },
    {
     "name": "stdout",
     "output_type": "stream",
     "text": [
      "Number of rows:  682154\n"
     ]
    },
    {
     "name": "stderr",
     "output_type": "stream",
     "text": [
      "                                                                                \r"
     ]
    }
   ],
   "source": [
    "print('Number of rows: ', df.count())"
   ]
  },
  {
   "cell_type": "markdown",
   "metadata": {},
   "source": [
    "### Data Preprocessing\n",
    "The NFL data is notorious for requiring lots of wrangling, from cleaning up sensors that were worn backwards during a game to engineering variables to fit the need of the research question at hand. However, the data appeared to be fairly clean before being provided online for the Big Data Bowl competition. This saved us lots of time (thank you, NFL!!). \n",
    "\n",
    "In our case, we needed to generate some additional variables. We generated variables to calculate the distance to a touchdown, a variable to identify the rusher's X and Y coordinates for each play, a variable containing the Euclidean distance between the rusher and each player, a variable identifying the closest defender (which required filtering out the offensive players), and a binary variable defining whether a first down place was achieved."
   ]
  },
  {
   "cell_type": "code",
   "execution_count": 5,
   "metadata": {},
   "outputs": [],
   "source": [
    "from pyspark.sql.functions import when\n",
    "\n",
    "# Calculate DistanceToTouchdown\n",
    "df = df.withColumn('DistanceToTouchdown', \n",
    "                   when(df['PossessionTeam'] == df['FieldPosition'], 100 - df['YardLine']).otherwise(df['YardLine']))\n",
    "\n",
    "\n",
    "# Identify the rusher's X and Y for each play and merge to the original DataFrame\n",
    "df_rusher = df.filter(df['NflId'] == df['NflIdRusher']).select('PlayId', 'X', 'Y', 'Team')\n",
    "df_rusher = df_rusher.withColumnRenamed('X', 'RusherX').withColumnRenamed('Y', 'RusherY').withColumnRenamed('Team', 'RusherTeam')\n",
    "df = df.join(df_rusher, on=['PlayId'], how='inner')\n",
    "\n",
    "\n",
    "# Calculate Euclidean distance between ball carrier (rusher) and each player\n",
    "df = df.withColumn('PlayerDistance', ((df['X'] - df['RusherX'])**2 + (df['Y'] - df['RusherY'])**2)**0.5)\n",
    "\n",
    "\n",
    "# Filter out the offensive team players\n",
    "df_defenders = df.filter(df['Team'] != df['RusherTeam'])\n",
    "\n",
    "# For each PlayId, find the minimum PlayerDistance\n",
    "df_defenders = df_defenders.groupBy('PlayId').min('PlayerDistance')\n",
    "df_defenders = df_defenders.withColumnRenamed('min(PlayerDistance)', 'ClosestDefenderDistance')\n",
    "\n",
    "# Merge ClosestDefenderDistance back to the original DataFrame\n",
    "df = df.join(df_defenders, on = ['PlayId'], how = 'inner')\n",
    "\n",
    "\n",
    "# Define first_down_gained\n",
    "df = df.withColumn('first_down_gained', when(df['Yards'] - df['Distance'] >= 0, 1).otherwise(0))"
   ]
  },
  {
   "cell_type": "markdown",
   "metadata": {},
   "source": [
    "Following the generation of these additional variables, we needed to define the features and target for our models. We selected variables `DefendersInTheBox`, `Down`, `Distance`, `DistanceToTouchdown`, and `ClosestDefenderDistance` as our features and `first_down_gained` as our target variable. \n",
    "\n",
    "As final data preprocessing, we removed rows with null values and assembled our features into a vector column. "
   ]
  },
  {
   "cell_type": "code",
   "execution_count": 6,
   "metadata": {},
   "outputs": [],
   "source": [
    "from pyspark.ml.feature import VectorAssembler\n",
    "\n",
    "# Define the feature columns and target variable\n",
    "features = ['DefendersInTheBox', 'Down', 'Distance', 'DistanceToTouchdown', 'ClosestDefenderDistance']\n",
    "target = 'first_down_gained'\n",
    "\n",
    "# Drop rows with null values\n",
    "df = df.na.drop(subset=features)\n",
    "\n",
    "# Assemble features into a feature vector column\n",
    "assembler = VectorAssembler(inputCols = features, outputCol = 'features')\n",
    "df = assembler.transform(df)"
   ]
  },
  {
   "cell_type": "markdown",
   "metadata": {},
   "source": [
    "Finally, we check the schema one last time to ensure everything is set up properly for analysis. "
   ]
  },
  {
   "cell_type": "code",
   "execution_count": 7,
   "metadata": {},
   "outputs": [
    {
     "name": "stdout",
     "output_type": "stream",
     "text": [
      "root\n",
      " |-- PlayId: long (nullable = true)\n",
      " |-- GameId: integer (nullable = true)\n",
      " |-- Team: string (nullable = true)\n",
      " |-- X: float (nullable = true)\n",
      " |-- Y: float (nullable = true)\n",
      " |-- S: float (nullable = true)\n",
      " |-- A: float (nullable = true)\n",
      " |-- Dis: float (nullable = true)\n",
      " |-- Orientation: float (nullable = true)\n",
      " |-- Dir: float (nullable = true)\n",
      " |-- NflId: integer (nullable = true)\n",
      " |-- DisplayName: string (nullable = true)\n",
      " |-- JerseyNumber: integer (nullable = true)\n",
      " |-- Season: integer (nullable = true)\n",
      " |-- YardLine: integer (nullable = true)\n",
      " |-- Quarter: integer (nullable = true)\n",
      " |-- GameClock: timestamp (nullable = true)\n",
      " |-- PossessionTeam: string (nullable = true)\n",
      " |-- Down: integer (nullable = true)\n",
      " |-- Distance: integer (nullable = true)\n",
      " |-- FieldPosition: string (nullable = true)\n",
      " |-- HomeScoreBeforePlay: integer (nullable = true)\n",
      " |-- VisitorScoreBeforePlay: integer (nullable = true)\n",
      " |-- NflIdRusher: integer (nullable = true)\n",
      " |-- OffenseFormation: string (nullable = true)\n",
      " |-- OffensePersonnel: string (nullable = true)\n",
      " |-- DefendersInTheBox: integer (nullable = true)\n",
      " |-- DefensePersonnel: string (nullable = true)\n",
      " |-- PlayDirection: string (nullable = true)\n",
      " |-- TimeHandoff: timestamp (nullable = true)\n",
      " |-- TimeSnap: timestamp (nullable = true)\n",
      " |-- Yards: integer (nullable = true)\n",
      " |-- PlayerHeight: string (nullable = true)\n",
      " |-- PlayerWeight: integer (nullable = true)\n",
      " |-- PlayerBirthDate: date (nullable = true)\n",
      " |-- PlayerCollegeName: string (nullable = true)\n",
      " |-- Position: string (nullable = true)\n",
      " |-- HomeTeamAbbr: string (nullable = true)\n",
      " |-- VisitorTeamAbbr: string (nullable = true)\n",
      " |-- Week: integer (nullable = true)\n",
      " |-- Stadium: string (nullable = true)\n",
      " |-- Location: string (nullable = true)\n",
      " |-- StadiumType: string (nullable = true)\n",
      " |-- Turf: string (nullable = true)\n",
      " |-- GameWeather: string (nullable = true)\n",
      " |-- Temperature: integer (nullable = true)\n",
      " |-- Humidity: integer (nullable = true)\n",
      " |-- WindSpeed: integer (nullable = true)\n",
      " |-- WindDirection: string (nullable = true)\n",
      " |-- DistanceToTouchdown: integer (nullable = true)\n",
      " |-- RusherX: float (nullable = true)\n",
      " |-- RusherY: float (nullable = true)\n",
      " |-- RusherTeam: string (nullable = true)\n",
      " |-- PlayerDistance: double (nullable = true)\n",
      " |-- ClosestDefenderDistance: double (nullable = true)\n",
      " |-- first_down_gained: integer (nullable = false)\n",
      " |-- features: vector (nullable = true)\n",
      "\n"
     ]
    }
   ],
   "source": [
    "df.printSchema()"
   ]
  },
  {
   "cell_type": "markdown",
   "metadata": {},
   "source": [
    "### Data Splitting/Sampling\n",
    "Before creating models, the data needed to be split. We used a 70\\:20\\:10 split to create a training, validation, and test set respectively. We used `seed` 420 to standardize our data splits through each run. "
   ]
  },
  {
   "cell_type": "code",
   "execution_count": 8,
   "metadata": {},
   "outputs": [],
   "source": [
    "# Split the data into train, validate and test datasets\n",
    "train, val, test = df.randomSplit([0.7, 0.2, 0.1], seed = 420)"
   ]
  },
  {
   "cell_type": "markdown",
   "metadata": {},
   "source": [
    "### Exploratory Data Analysis (EDA)"
   ]
  },
  {
   "cell_type": "markdown",
   "metadata": {},
   "source": [
    "Beginning EDA, we first needed to group the data by each play as each player's data was listed for each play. To confirm the standardization of the data, we executed a count of each `PlayId` to confirm there was data for 22 players on each `PlayId`. "
   ]
  },
  {
   "cell_type": "code",
   "execution_count": 9,
   "metadata": {},
   "outputs": [],
   "source": [
    "import pandas as pd\n",
    "import numpy as np\n",
    "import seaborn as sns\n",
    "import matplotlib.pyplot as plt\n",
    "from pyspark.sql.functions import when, col\n",
    "from pyspark.sql import functions as F\n",
    "from pyspark.sql.window import Window"
   ]
  },
  {
   "cell_type": "code",
   "execution_count": null,
   "metadata": {},
   "outputs": [],
   "source": [
    "plays= df.groupBy('PlayId').count()\n",
    "plays.show()"
   ]
  },
  {
   "cell_type": "markdown",
   "metadata": {},
   "source": [
    "We then computed the total number of plays in the dataset, returnining a value of 31,006 total plays. "
   ]
  },
  {
   "cell_type": "code",
   "execution_count": null,
   "metadata": {},
   "outputs": [],
   "source": [
    "#how many plays are in the dataset?\n",
    "print('Number of plays: ', df.select('PlayId').distinct().count())"
   ]
  },
  {
   "cell_type": "markdown",
   "metadata": {},
   "source": [
    "Based on subject knowledge around American football, one of the more important predictors will be how far away the offensive team is to the endzone. This was not explicitly listed in the data and can be derived using the constructed `DistanceToTouchdown` variable. \n",
    "\n",
    "Our target variable we will be trying to predict is `first_down_gained`. Below is a statistical summary of `first_down_gained`."
   ]
  },
  {
   "cell_type": "code",
   "execution_count": null,
   "metadata": {},
   "outputs": [],
   "source": [
    "train.select('first_down_gained').summary().show()"
   ]
  },
  {
   "cell_type": "markdown",
   "metadata": {},
   "source": [
    "Next, we looked at the statistical summary for potential predictor variables "
   ]
  },
  {
   "cell_type": "code",
   "execution_count": null,
   "metadata": {},
   "outputs": [],
   "source": [
    "train.select('DefendersInTheBox', 'Down','Distance', 'DistanceToTouchdown', 'ClosestDefenderDistance').summary().show()"
   ]
  },
  {
   "cell_type": "markdown",
   "metadata": {},
   "source": [
    "Finally, we explored the distributions of first downs achieved in the dataset using a violin plot. "
   ]
  },
  {
   "cell_type": "code",
   "execution_count": 10,
   "metadata": {},
   "outputs": [
    {
     "name": "stdout",
     "output_type": "stream",
     "text": [
      "23/08/09 05:51:25 WARN package: Truncated the string representation of a plan since it was too large. This behavior can be adjusted by setting 'spark.sql.debug.maxToStringFields'.\n"
     ]
    },
    {
     "name": "stderr",
     "output_type": "stream",
     "text": [
      "                                                                                \r"
     ]
    }
   ],
   "source": [
    "# converting training data to a pandas dataframe for visualization\n",
    "pandas_df = train.toPandas()"
   ]
  },
  {
   "cell_type": "markdown",
   "metadata": {},
   "source": [
    "We then explored the correlations between the variables, specifically focusing in on the relationships with `first_down_gained`. The strongest correlation with `first_down_gained` appeared to be with `Distance`. The correlation matrix revealed a strong negative correlation. "
   ]
  },
  {
   "cell_type": "code",
   "execution_count": 36,
   "metadata": {},
   "outputs": [
    {
     "name": "stderr",
     "output_type": "stream",
     "text": [
      "                                                                                \r"
     ]
    },
    {
     "data": {
      "text/plain": [
       "array([ 1.00000000e+00,  3.77175221e-03, -3.40377560e-03, -7.63848430e-04,\n",
       "       -2.20790186e-03,  3.43138645e-02,  9.76211154e-03, -6.76795653e-04,\n",
       "        1.40777296e-02, -9.99181863e-03, -2.84599524e-03,  1.01209285e-02,\n",
       "        1.26360295e-02,  2.65813466e-03,  4.81112844e-04,  1.29375927e-03,\n",
       "       -1.94578725e-04, -7.32075739e-03,  1.99778090e-03, -5.59480502e-03,\n",
       "        5.83650951e-03,  1.52155421e-02, -3.73054827e-03,  3.77175221e-03,\n",
       "        1.00000000e+00,  2.35069699e-03,  2.77648183e-03,  1.58898476e-03,\n",
       "       -5.48417806e-02, -1.46952302e-02,  1.03991548e-03,  5.28058000e-03,\n",
       "        2.59865454e-03,  4.73059507e-04,  1.79867901e-03,  9.55229620e-04,\n",
       "       -7.04274668e-04, -2.81342996e-03, -1.31821282e-03,  2.03170795e-03,\n",
       "        1.07221604e-03,  1.04265691e-04,  9.60346589e-04, -1.44805187e-03,\n",
       "       -2.81540739e-03,  1.08300860e-03, -3.40377560e-03,  2.35069699e-03,\n",
       "        1.00000000e+00,  3.03740697e-01,  9.44089637e-01,  2.19957162e-03,\n",
       "       -2.58740833e-04,  4.64611418e-02, -4.97122908e-03, -4.88185399e-02,\n",
       "        4.25431101e-02,  1.56515554e-03,  4.92377479e-04,  1.90577562e-02,\n",
       "       -4.63712666e-03,  3.62685088e-03, -2.74563247e-01,  1.57127072e-02,\n",
       "       -4.57946234e-03,  1.01638168e-02,  3.84133103e-02,  2.53349326e-02,\n",
       "       -2.06061516e-02, -7.63848430e-04,  2.77648183e-03,  3.03740697e-01,\n",
       "        1.00000000e+00,  2.54298308e-01,  2.00538124e-03,  2.75900212e-03,\n",
       "        2.88217833e-02, -1.80766592e-02, -5.62929323e-03,  3.58400561e-02,\n",
       "       -7.34803081e-03, -1.12704984e-02,  1.30511547e-02, -7.22834860e-02,\n",
       "        2.07310731e-02, -3.64482514e-01,  3.69279567e-03,  6.93871079e-03,\n",
       "        4.92718892e-04,  1.79074066e-02,  2.47690061e-02,  1.87544125e-03,\n",
       "       -2.20790186e-03,  1.58898476e-03,  9.44089637e-01,  2.54298308e-01,\n",
       "        1.00000000e+00,  3.65830568e-03,  4.12821923e-04,  4.38470617e-02,\n",
       "       -6.61505944e-03, -4.22394988e-02,  3.95464479e-02, -2.53670582e-03,\n",
       "       -5.95849719e-03,  1.79645609e-03,  2.57225298e-03,  2.64916860e-03,\n",
       "       -2.51137166e-01,  1.08925439e-02, -7.31054898e-03,  4.82453876e-03,\n",
       "        3.75785466e-02,  1.77905036e-02, -2.01808735e-02,  3.43138645e-02,\n",
       "       -5.48417806e-02,  2.19957162e-03,  2.00538124e-03,  3.65830568e-03,\n",
       "        1.00000000e+00,  1.84529242e-01,  3.76414239e-03,  6.02473435e-04,\n",
       "       -1.25078476e-03,  4.17895596e-03,  9.79497739e-04,  1.92998149e-04,\n",
       "       -1.35098789e-03, -1.37340581e-03, -1.12796871e-04, -1.52709253e-04,\n",
       "        4.27994112e-04, -1.19708140e-03,  1.65441928e-03,  2.77403196e-03,\n",
       "       -4.88420417e-04, -2.31225233e-03,  9.76211154e-03, -1.46952302e-02,\n",
       "       -2.58740833e-04,  2.75900212e-03,  4.12821923e-04,  1.84529242e-01,\n",
       "        1.00000000e+00, -1.12811459e-03, -4.56167082e-04,  5.26964748e-04,\n",
       "       -2.56073986e-03,  2.00500060e-04, -2.53684657e-04,  2.45752167e-03,\n",
       "       -2.83870217e-04, -6.26453262e-05, -9.19032045e-05,  2.66555662e-04,\n",
       "       -3.15150157e-04, -1.49216194e-03,  4.86192300e-04,  3.40871866e-03,\n",
       "        9.26802166e-04, -6.76795653e-04,  1.03991548e-03,  4.64611418e-02,\n",
       "        2.88217833e-02,  4.38470617e-02,  3.76414239e-03, -1.12811459e-03,\n",
       "        1.00000000e+00,  3.69156239e-03,  1.29036099e-02,  8.20681185e-02,\n",
       "        4.24964436e-03,  2.30617575e-02,  4.45374526e-03, -1.69045788e-01,\n",
       "        6.46420356e-02, -1.34364822e-02, -1.38563054e-02,  5.28180294e-03,\n",
       "        1.42855771e-02,  1.32627684e-01,  6.78680540e-02, -3.87743231e-03,\n",
       "        1.40777296e-02,  5.28058000e-03, -4.97122908e-03, -1.80766592e-02,\n",
       "       -6.61505944e-03,  6.02473435e-04, -4.56167082e-04,  3.69156239e-03,\n",
       "        1.00000000e+00,  4.10712024e-02, -1.55901084e-02,  6.67063253e-01,\n",
       "        6.57219287e-01,  1.39458513e-02,  5.14968255e-02, -2.63723267e-03,\n",
       "        2.09632349e-03,  4.74414112e-03, -6.60485327e-03,  4.80403337e-03,\n",
       "       -5.47613308e-02, -2.55118506e-02, -1.83407327e-03, -9.99181863e-03,\n",
       "        2.59865454e-03, -4.88185399e-02, -5.62929323e-03, -4.22394988e-02,\n",
       "       -1.25078476e-03,  5.26964748e-04,  1.29036099e-02,  4.10712024e-02,\n",
       "        1.00000000e+00, -4.94366222e-01,  2.03539000e-02,  2.73800649e-02,\n",
       "       -1.40305947e-03,  1.43789454e-02, -2.41661958e-02, -1.87328025e-03,\n",
       "       -1.45867568e-02,  1.28500665e-03,  1.80799075e-03, -9.30963057e-02,\n",
       "       -1.01125608e-01,  2.85224726e-01, -2.84599524e-03,  4.73059507e-04,\n",
       "        4.25431101e-02,  3.58400561e-02,  3.95464479e-02,  4.17895596e-03,\n",
       "       -2.56073986e-03,  8.20681185e-02, -1.55901084e-02, -4.94366222e-01,\n",
       "        1.00000000e+00, -6.78358921e-03,  7.13912099e-04, -6.01583267e-03,\n",
       "       -2.54717962e-01,  7.10012356e-02, -1.94885689e-02,  1.98957638e-02,\n",
       "       -7.55975064e-03,  2.12372395e-02,  2.87411803e-01,  5.22797983e-02,\n",
       "       -4.07524741e-01,  1.01209285e-02,  1.79867901e-03,  1.56515554e-03,\n",
       "       -7.34803081e-03, -2.53670582e-03,  9.79497739e-04,  2.00500060e-04,\n",
       "        4.24964436e-03,  6.67063253e-01,  2.03539000e-02, -6.78358921e-03,\n",
       "        1.00000000e+00,  3.89554164e-01,  1.88309885e-02,  2.21137196e-02,\n",
       "       -5.60098958e-04, -1.23961272e-03,  1.89183052e-02, -1.45947375e-02,\n",
       "       -5.61459281e-02, -8.77544694e-03, -2.96096706e-02, -4.70180982e-03,\n",
       "        1.26360295e-02,  9.55229620e-04,  4.92377479e-04, -1.12704984e-02,\n",
       "       -5.95849719e-03,  1.92998149e-04, -2.53684657e-04,  2.30617575e-02,\n",
       "        6.57219287e-01,  2.73800649e-02,  7.13912099e-04,  3.89554164e-01,\n",
       "        1.00000000e+00,  2.86509863e-02,  2.62457616e-02,  6.56562937e-03,\n",
       "       -6.93621401e-04,  3.22868061e-02,  7.71584893e-03, -5.04635565e-02,\n",
       "       -1.97074541e-02, -1.12288246e-02, -5.97410150e-03,  2.65813466e-03,\n",
       "       -7.04274668e-04,  1.90577562e-02,  1.30511547e-02,  1.79645609e-03,\n",
       "       -1.35098789e-03,  2.45752167e-03,  4.45374526e-03,  1.39458513e-02,\n",
       "       -1.40305947e-03, -6.01583267e-03,  1.88309885e-02,  2.86509863e-02,\n",
       "        1.00000000e+00, -2.80642533e-02,  8.25892510e-03, -9.21191712e-03,\n",
       "        6.17741714e-03, -1.43708860e-02, -3.14379342e-02, -1.65790501e-02,\n",
       "        3.28467581e-03,  1.17218448e-02,  4.81112844e-04, -2.81342996e-03,\n",
       "       -4.63712666e-03, -7.22834860e-02,  2.57225298e-03, -1.37340581e-03,\n",
       "       -2.83870217e-04, -1.69045788e-01,  5.14968255e-02,  1.43789454e-02,\n",
       "       -2.54717962e-01,  2.21137196e-02,  2.62457616e-02, -2.80642533e-02,\n",
       "        1.00000000e+00, -1.04541161e-01,  7.02385243e-02, -8.13852766e-03,\n",
       "       -1.41247423e-02,  1.06179951e-02, -1.68808390e-01, -9.14738019e-03,\n",
       "        3.64493905e-02,  1.29375927e-03, -1.31821282e-03,  3.62685088e-03,\n",
       "        2.07310731e-02,  2.64916860e-03, -1.12796871e-04, -6.26453262e-05,\n",
       "        6.46420356e-02, -2.63723267e-03, -2.41661958e-02,  7.10012356e-02,\n",
       "       -5.60098958e-04,  6.56562937e-03,  8.25892510e-03, -1.04541161e-01,\n",
       "        1.00000000e+00, -8.59992266e-03, -9.67462839e-03, -8.92537339e-03,\n",
       "       -3.70310599e-03,  9.42485469e-02,  4.86904634e-02,  5.24558948e-01,\n",
       "       -1.94578725e-04,  2.03170795e-03, -2.74563247e-01, -3.64482514e-01,\n",
       "       -2.51137166e-01, -1.52709253e-04, -9.19032045e-05, -1.34364822e-02,\n",
       "        2.09632349e-03, -1.87328025e-03, -1.94885689e-02, -1.23961272e-03,\n",
       "       -6.93621401e-04, -9.21191712e-03,  7.02385243e-02, -8.59992266e-03,\n",
       "        1.00000000e+00, -3.01812536e-03,  5.43731704e-03,  3.07902381e-03,\n",
       "       -1.02478884e-02,  3.55546985e-03,  1.33027497e-03, -7.32075739e-03,\n",
       "        1.07221604e-03,  1.57127072e-02,  3.69279567e-03,  1.08925439e-02,\n",
       "        4.27994112e-04,  2.66555662e-04, -1.38563054e-02,  4.74414112e-03,\n",
       "       -1.45867568e-02,  1.98957638e-02,  1.89183052e-02,  3.22868061e-02,\n",
       "        6.17741714e-03, -8.13852766e-03, -9.67462839e-03, -3.01812536e-03,\n",
       "        1.00000000e+00, -1.70138928e-01, -1.38463732e-01,  1.24526770e-02,\n",
       "       -1.98754951e-02, -1.53238693e-02,  1.99778090e-03,  1.04265691e-04,\n",
       "       -4.57946234e-03,  6.93871079e-03, -7.31054898e-03, -1.19708140e-03,\n",
       "       -3.15150157e-04,  5.28180294e-03, -6.60485327e-03,  1.28500665e-03,\n",
       "       -7.55975064e-03, -1.45947375e-02,  7.71584893e-03, -1.43708860e-02,\n",
       "       -1.41247423e-02, -8.92537339e-03,  5.43731704e-03, -1.70138928e-01,\n",
       "        1.00000000e+00, -2.90255628e-05, -9.82321467e-03, -2.91991323e-02,\n",
       "       -1.73075175e-03, -5.59480502e-03,  9.60346589e-04,  1.01638168e-02,\n",
       "        4.92718892e-04,  4.82453876e-03,  1.65441928e-03, -1.49216194e-03,\n",
       "        1.42855771e-02,  4.80403337e-03,  1.80799075e-03,  2.12372395e-02,\n",
       "       -5.61459281e-02, -5.04635565e-02, -3.14379342e-02,  1.06179951e-02,\n",
       "       -3.70310599e-03,  3.07902381e-03, -1.38463732e-01, -2.90255628e-05,\n",
       "        1.00000000e+00,  1.10526077e-02, -2.64119089e-02, -1.66702721e-02,\n",
       "        5.83650951e-03, -1.44805187e-03,  3.84133103e-02,  1.79074066e-02,\n",
       "        3.75785466e-02,  2.77403196e-03,  4.86192300e-04,  1.32627684e-01,\n",
       "       -5.47613308e-02, -9.30963057e-02,  2.87411803e-01, -8.77544694e-03,\n",
       "       -1.97074541e-02, -1.65790501e-02, -1.68808390e-01,  9.42485469e-02,\n",
       "       -1.02478884e-02,  1.24526770e-02, -9.82321467e-03,  1.10526077e-02,\n",
       "        1.00000000e+00,  2.88677766e-02, -8.89296122e-02,  1.52155421e-02,\n",
       "       -2.81540739e-03,  2.53349326e-02,  2.47690061e-02,  1.77905036e-02,\n",
       "       -4.88420417e-04,  3.40871866e-03,  6.78680540e-02, -2.55118506e-02,\n",
       "       -1.01125608e-01,  5.22797983e-02, -2.96096706e-02, -1.12288246e-02,\n",
       "        3.28467581e-03, -9.14738019e-03,  4.86904634e-02,  3.55546985e-03,\n",
       "       -1.98754951e-02, -2.91991323e-02, -2.64119089e-02,  2.88677766e-02,\n",
       "        1.00000000e+00, -1.74387957e-02, -3.73054827e-03,  1.08300860e-03,\n",
       "       -2.06061516e-02,  1.87544125e-03, -2.01808735e-02, -2.31225233e-03,\n",
       "        9.26802166e-04, -3.87743231e-03, -1.83407327e-03,  2.85224726e-01,\n",
       "       -4.07524741e-01, -4.70180982e-03, -5.97410150e-03,  1.17218448e-02,\n",
       "        3.64493905e-02,  5.24558948e-01,  1.33027497e-03, -1.53238693e-02,\n",
       "       -1.73075175e-03, -1.66702721e-02, -8.89296122e-02, -1.74387957e-02,\n",
       "        1.00000000e+00])"
      ]
     },
     "execution_count": 36,
     "metadata": {},
     "output_type": "execute_result"
    }
   ],
   "source": [
    "from pyspark.ml.stat import Correlation\n",
    "\n",
    "non_string_vars = [ 'X', 'Y', 'S', 'A', 'Dis', 'Orientation', 'Dir', 'YardLine', 'Quarter', 'Down', \n",
    "                   'Distance', 'HomeScoreBeforePlay', 'VisitorScoreBeforePlay', 'NflIdRusher', \n",
    "                   'DefendersInTheBox', 'Yards', 'PlayerWeight', 'Temperature', 'Humidity', 'WindSpeed',\n",
    "                   'DistanceToTouchdown', 'ClosestDefenderDistance', 'first_down_gained'\n",
    "                  ]\n",
    "\n",
    "# convert to vector column first\n",
    "assembler = VectorAssembler(inputCols=non_string_vars, outputCol=\"corr_features\", handleInvalid=\"skip\")\n",
    "df_vector = assembler.transform(df).select(\"corr_features\")\n",
    "\n",
    "# get correlation matrix\n",
    "matrix = Correlation.corr(df_vector, \"corr_features\")\n",
    "matrix.collect()[0][\"pearson({})\".format(vector_col)].values"
   ]
  },
  {
   "cell_type": "code",
   "execution_count": 37,
   "metadata": {},
   "outputs": [
    {
     "data": {
      "image/png": "[encoded data removed]",
      "text/plain": [
       "<Figure size 700x700 with 2 Axes>"
      ]
     },
     "metadata": {},
     "output_type": "display_data"
    }
   ],
   "source": [
    "correlation_array = matrix.select(\"pearson(corr_features)\").collect()[0][\"pearson(corr_features)\"].toArray()\n",
    "correlation_df = pd.DataFrame(correlation_array, columns=non_string_vars, index=non_string_vars)\n",
    "\n",
    "# Visualize the correlation matrix using a heatmap\n",
    "plt.figure(figsize=(7, 7))\n",
    "plt.imshow(correlation_df, cmap=\"coolwarm\", interpolation=\"nearest\")\n",
    "plt.colorbar()\n",
    "plt.title(\"Correlation Matrix\")\n",
    "plt.xticks(range(len(non_string_vars)), non_string_vars, rotation=90)\n",
    "plt.yticks(range(len(non_string_vars)), non_string_vars)\n",
    "plt.tight_layout()\n",
    "plt.show()"
   ]
  },
  {
   "cell_type": "markdown",
   "metadata": {},
   "source": [
    "### Model Construction\n",
    "Each of our models were fit using the training set and validated using cross validation with 5 folds with the validation set. To prepare to evaluate the models, evaluators were created and a function for cross validation was prepared.  "
   ]
  },
  {
   "cell_type": "code",
   "execution_count": 10,
   "metadata": {},
   "outputs": [],
   "source": [
    "# Generating Evaluators\n",
    "\n",
    "from pyspark.ml.evaluation import MulticlassClassificationEvaluator, BinaryClassificationEvaluator\n",
    "\n",
    "evaluator = MulticlassClassificationEvaluator(labelCol=target, predictionCol='prediction')\n",
    "evaluator_b = BinaryClassificationEvaluator(labelCol=target, rawPredictionCol='rawPrediction')"
   ]
  },
  {
   "cell_type": "code",
   "execution_count": 26,
   "metadata": {},
   "outputs": [],
   "source": [
    "from pyspark.ml.classification import LogisticRegression, GBTClassifier, RandomForestClassifier\n",
    "from pyspark.ml.tuning import ParamGridBuilder, CrossValidator\n",
    "\n",
    "\n",
    "def crossvalidation(estimator):\n",
    "    if isinstance(estimator, (LogisticRegression, GBTClassifier)):\n",
    "        paramGrid = ParamGridBuilder().addGrid(estimator.maxIter, [10]).build()\n",
    "    else:\n",
    "        paramGrid = ParamGridBuilder() \\\n",
    "            .addGrid(estimator.numTrees, [10]) \\\n",
    "            .addGrid(estimator.maxDepth, [5]) \\\n",
    "            .build()\n",
    "\n",
    "    crossval = CrossValidator(\n",
    "        estimator=estimator,\n",
    "        estimatorParamMaps=paramGrid,\n",
    "        evaluator=evaluator,\n",
    "        numFolds=5\n",
    "    )\n",
    "    \n",
    "    model = crossval.fit(df)\n",
    "    \n",
    "    return model"
   ]
  },
  {
   "cell_type": "markdown",
   "metadata": {},
   "source": [
    "#### Model 1: Logistic Regression\n",
    "We opted for our benchmark model to be a logistic regression model. Our feature variables were `DefendersInTheBox`, `Down`, `Distance`, `DistanceToTouchdown`, and `ClosestDefenderDistance`, which were assembled into a vector column during preprocessing. Our target variable was `first_down_gained`. The goal is to classify whether or not the play would result in a first down. "
   ]
  },
  {
   "cell_type": "code",
   "execution_count": 15,
   "metadata": {},
   "outputs": [],
   "source": [
    "# Create a logistic regression model\n",
    "lr = LogisticRegression(labelCol=target, featuresCol='features')"
   ]
  },
  {
   "cell_type": "code",
   "execution_count": null,
   "metadata": {},
   "outputs": [],
   "source": [
    "# data splitting model\n",
    "\n",
    "# Fit the model with the training data (data splitting)\n",
    "lr_model = lr.fit(train)\n",
    "\n",
    "# Predict the target variable on the validation data\n",
    "lr_predictions = lr_model.transform(val)"
   ]
  },
  {
   "cell_type": "code",
   "execution_count": null,
   "metadata": {},
   "outputs": [],
   "source": [
    "#cross validation model\n",
    "\n",
    "# model with cross validation\n",
    "lr_model_cv = crossvalidation(lr, paramGrid)\n",
    "\n",
    "# predict the target variable on the cross validation model\n",
    "lr_predictions_cv = lr_model_cv.transform(df)"
   ]
  },
  {
   "cell_type": "markdown",
   "metadata": {},
   "source": [
    "After training the model, it was evaluated and accuracy, precision, recall, F1 scores, and AUC were calculated. These scores were followed by the generation of a confusion matrix."
   ]
  },
  {
   "cell_type": "code",
   "execution_count": null,
   "metadata": {},
   "outputs": [],
   "source": [
    "# evaluation metrics of data splitting model\n",
    "print('Logistic Regression: Data Splitting Results')\n",
    "\n",
    "# Accuracy\n",
    "lr_accuracy = evaluator.evaluate(lr_predictions, {evaluator.metricName: 'accuracy'})\n",
    "print('Accuracy: {:.2f}%'.format(lr_accuracy * 100))\n",
    "\n",
    "# Precision\n",
    "lr_precision = evaluator.evaluate(lr_predictions, {evaluator.metricName: 'weightedPrecision'})\n",
    "print('Precision: {:.2f}%'.format(lr_precision * 100))\n",
    "\n",
    "# Recall\n",
    "lr_recall = evaluator.evaluate(lr_predictions, {evaluator.metricName: 'weightedRecall'})\n",
    "print('Recall: {:.2f}%'.format(lr_recall * 100))\n",
    "\n",
    "# F1 Score\n",
    "lr_f1Score = evaluator.evaluate(lr_predictions, {evaluator.metricName: 'f1'})\n",
    "print('F1 Score: {:.4f}'.format(lr_f1Score))\n",
    "\n",
    "# AUC\n",
    "lr_auc = evaluator_b.evaluate(lr_predictions, {evaluator_b.metricName: 'areaUnderROC'})\n",
    "print('AUC: {:.4f}'.format(lr_auc))"
   ]
  },
  {
   "cell_type": "code",
   "execution_count": null,
   "metadata": {},
   "outputs": [],
   "source": [
    "# evaluation metrics of cross validation model\n",
    "print('Logistic Regression: Cross-Validation Results')\n",
    "\n",
    "# Accuracy\n",
    "lr_accuracy_cv = evaluator.evaluate(lr_predictions_cv, {evaluator.metricName: 'accuracy'})\n",
    "print('Accuracy: {:.2f}%'.format(lr_accuracy_cv * 100))\n",
    "\n",
    "# Precision\n",
    "lr_precision_cv = evaluator.evaluate(lr_predictions_cv, {evaluator.metricName: 'weightedPrecision'})\n",
    "print('Precision: {:.2f}%'.format(lr_precision_cv * 100))\n",
    "\n",
    "# Recall\n",
    "lr_recall_cv = evaluator.evaluate(lr_predictions_cv, {evaluator.metricName: 'weightedRecall'})\n",
    "print'Recall: {:.2f}%'.format(lr_recall_cv * 100))\n",
    "\n",
    "# F1 Score\n",
    "lr_f1Score_cv = evaluator.evaluate(lr_predictions_cv, {evaluator.metricName: 'f1'})\n",
    "print('F1 Score: {:.4f}'.format(lr_f1Score_cv))\n",
    "\n",
    "# AUC\n",
    "lr_auc_cv = evaluator_b.evaluate(lr_predictions_cv, {evaluator_b.metricName: 'areaUnderROC'})\n",
    "print('AUC: {:.4f}'.format(lr_auc_cv))"
   ]
  },
  {
   "cell_type": "code",
   "execution_count": null,
   "metadata": {},
   "outputs": [],
   "source": [
    "from sklearn.metrics import confusion_matrix\n",
    "\n",
    "# Data Splitting Confusion Matrix\n",
    "\n",
    "# Convert PySpark DataFrame columns to lists\n",
    "y_true = [row[0] for row in lr_predictions.select(target).collect()]\n",
    "y_pred = [row[0] for row in lr_predictions.select('prediction').collect()]\n",
    "\n",
    "# Compute the confusion matrix\n",
    "cm = confusion_matrix(y_true, y_pred)\n",
    "cm_normalized = confusion_matrix(y_true, y_pred, normalize='all')\n",
    "\n",
    "# Combine the raw counts with the normalized percentages\n",
    "combined_cm = np.array([[f'{c} ({p * 100:.2f}%)' for c, p in zip(row_c, row_p)] for row_c, row_p in zip(cm, cm_normalized)])\n",
    "\n",
    "# Visualize the combined confusion matrix using Seaborn's heatmap\n",
    "plt.figure(figsize=(8,6))\n",
    "sns.heatmap(cm_normalized, annot=combined_cm, fmt='', cmap='Blues', \n",
    "            xticklabels=['First Down Not Gained', 'First Down Gained'], \n",
    "            yticklabels=['First Down Not Gained', 'First Down Gained'])\n",
    "plt.xlabel('Predicted')\n",
    "plt.ylabel('Actual')\n",
    "plt.title('Confusion Matrix: Data Splitting')\n",
    "plt.show()"
   ]
  },
  {
   "cell_type": "code",
   "execution_count": null,
   "metadata": {},
   "outputs": [],
   "source": [
    "# Cross-Validation Confusion Matrix\n",
    "\n",
    "# Convert PySpark DataFrame columns to lists\n",
    "y_true = [row[0] for row in lr_predictions_cv.select(target).collect()]\n",
    "y_pred = [row[0] for row in lr_predictions_cv.select('prediction').collect()]\n",
    "\n",
    "# Compute the confusion matrix\n",
    "cm = confusion_matrix(y_true, y_pred)\n",
    "cm_normalized = confusion_matrix(y_true, y_pred, normalize='all')\n",
    "\n",
    "# Combine the raw counts with the normalized percentages\n",
    "combined_cm = np.array([[f'{c} ({p * 100:.2f}%)' for c, p in zip(row_c, row_p)] for row_c, row_p in zip(cm, cm_normalized)])\n",
    "\n",
    "# Visualize the combined confusion matrix using Seaborn's heatmap\n",
    "plt.figure(figsize=(8,6))\n",
    "sns.heatmap(cm_normalized, annot=combined_cm, fmt='', cmap='Blues', \n",
    "            xticklabels=['First Down Not Gained', 'First Down Gained'], \n",
    "            yticklabels=['First Down Not Gained', 'First Down Gained'])\n",
    "plt.xlabel('Predicted')\n",
    "plt.ylabel('Actual')\n",
    "plt.title('Confusion Matrix: Cross-Validation')\n",
    "plt.show()"
   ]
  },
  {
   "cell_type": "markdown",
   "metadata": {},
   "source": [
    "Overall, this model performed decently. As a simple benchmark model, we resulted in an accuracy of 82.56%. The precision and recall rates were also decent, returning 80.87% an 82.56% respectively. The F1 Score was 0.8087 and the AUC was 0.7628. "
   ]
  },
  {
   "cell_type": "markdown",
   "metadata": {},
   "source": [
    "#### Model 2: Gradient Boosted Tree"
   ]
  },
  {
   "cell_type": "code",
   "execution_count": 16,
   "metadata": {},
   "outputs": [],
   "source": [
    "# Create the DBT Model\n",
    "gbt = GBTClassifier(labelCol=target, featuresCol='features')"
   ]
  },
  {
   "cell_type": "code",
   "execution_count": 41,
   "metadata": {},
   "outputs": [
    {
     "name": "stderr",
     "output_type": "stream",
     "text": [
      "                                                                                \r"
     ]
    }
   ],
   "source": [
    "# data splitting model\n",
    "\n",
    "# Fit the model with the training data (data splitting)\n",
    "gbt_model = gbt.fit(train)\n",
    "\n",
    "# Predict the target variable on the validation data\n",
    "gbt_predictions = gbt_model.transform(val)"
   ]
  },
  {
   "cell_type": "code",
   "execution_count": 42,
   "metadata": {},
   "outputs": [
    {
     "name": "stderr",
     "output_type": "stream",
     "text": [
      "                                                                                \r"
     ]
    }
   ],
   "source": [
    "# cross validation model\n",
    "\n",
    "# model with cross validation\n",
    "gbt_model_cv = crossvalidation(gbt, paramGrid)\n",
    "\n",
    "# predict the target variable on the cross validation model\n",
    "gbt_predictions_cv = gbt_model_cv.transform(df)"
   ]
  },
  {
   "cell_type": "code",
   "execution_count": 43,
   "metadata": {},
   "outputs": [
    {
     "name": "stdout",
     "output_type": "stream",
     "text": [
      "Gradient Boosted Tree: Data Splitting Results\n"
     ]
    },
    {
     "name": "stderr",
     "output_type": "stream",
     "text": [
      "                                                                                \r"
     ]
    },
    {
     "name": "stdout",
     "output_type": "stream",
     "text": [
      "Accuracy: 83.11%\n"
     ]
    },
    {
     "name": "stderr",
     "output_type": "stream",
     "text": [
      "                                                                                \r"
     ]
    },
    {
     "name": "stdout",
     "output_type": "stream",
     "text": [
      "Precision: 81.60%\n"
     ]
    },
    {
     "name": "stderr",
     "output_type": "stream",
     "text": [
      "                                                                                \r"
     ]
    },
    {
     "name": "stdout",
     "output_type": "stream",
     "text": [
      "Recall: 83.11%\n"
     ]
    },
    {
     "name": "stderr",
     "output_type": "stream",
     "text": [
      "                                                                                \r"
     ]
    },
    {
     "name": "stdout",
     "output_type": "stream",
     "text": [
      "F1 Score: 0.8157\n"
     ]
    },
    {
     "name": "stderr",
     "output_type": "stream",
     "text": [
      "                                                                                \r"
     ]
    },
    {
     "name": "stdout",
     "output_type": "stream",
     "text": [
      "AUC: 0.7787\n"
     ]
    }
   ],
   "source": [
    "# evaluation metrics of data splitting model\n",
    "print('Gradient Boosted Tree: Data Splitting Results')\n",
    "\n",
    "# Accuracy\n",
    "gbt_accuracy = evaluator.evaluate(gbt_predictions, {evaluator.metricName: 'accuracy'})\n",
    "print('Accuracy: {:.2f}%'.format(gbt_accuracy * 100))\n",
    "\n",
    "# Precision\n",
    "gbt_precision = evaluator.evaluate(gbt_predictions, {evaluator.metricName: 'weightedPrecision'})\n",
    "print('Precision: {:.2f}%'.format(gbt_precision * 100))\n",
    "\n",
    "# Recall\n",
    "gbt_recall = evaluator.evaluate(gbt_predictions, {evaluator.metricName: 'weightedRecall'})\n",
    "print('Recall: {:.2f}%'.format(gbt_recall * 100))\n",
    "\n",
    "# F1 Score\n",
    "gbt_f1Score = evaluator.evaluate(gbt_predictions, {evaluator.metricName: 'f1'})\n",
    "print('F1 Score: {:.4f}'.format(gbt_f1Score))\n",
    "\n",
    "# AUC\n",
    "gbt_auc = evaluator_b.evaluate(gbt_predictions, {evaluator_b.metricName: 'areaUnderROC'})\n",
    "print('AUC: {:.4f}'.format(gbt_auc))"
   ]
  },
  {
   "cell_type": "code",
   "execution_count": 44,
   "metadata": {},
   "outputs": [
    {
     "name": "stdout",
     "output_type": "stream",
     "text": [
      "Gradient Boosted Tree: Cross-Validation Results\n"
     ]
    },
    {
     "name": "stderr",
     "output_type": "stream",
     "text": [
      "                                                                                \r"
     ]
    },
    {
     "name": "stdout",
     "output_type": "stream",
     "text": [
      "Accuracy: 83.07%\n"
     ]
    },
    {
     "name": "stderr",
     "output_type": "stream",
     "text": [
      "                                                                                \r"
     ]
    },
    {
     "name": "stdout",
     "output_type": "stream",
     "text": [
      "Precision: 81.52%\n"
     ]
    },
    {
     "name": "stderr",
     "output_type": "stream",
     "text": [
      "                                                                                \r"
     ]
    },
    {
     "name": "stdout",
     "output_type": "stream",
     "text": [
      "Recall: 83.07%\n"
     ]
    },
    {
     "name": "stderr",
     "output_type": "stream",
     "text": [
      "                                                                                \r"
     ]
    },
    {
     "name": "stdout",
     "output_type": "stream",
     "text": [
      "F1 Score: 0.8146\n"
     ]
    },
    {
     "name": "stderr",
     "output_type": "stream",
     "text": [
      "[Stage 2511:>                                                       (0 + 1) / 1]\r"
     ]
    },
    {
     "name": "stdout",
     "output_type": "stream",
     "text": [
      "AUC: 0.7746\n"
     ]
    },
    {
     "name": "stderr",
     "output_type": "stream",
     "text": [
      "                                                                                \r"
     ]
    }
   ],
   "source": [
    "# evaluation metrics of cross-validation model\n",
    "print('Gradient Boosted Tree: Cross-Validation Results')\n",
    "\n",
    "# Accuracy\n",
    "gbt_accuracy_cv = evaluator.evaluate(gbt_predictions_cv, {evaluator.metricName: 'accuracy'})\n",
    "print('Accuracy: {:.2f}%'.format(gbt_accuracy_cv * 100))\n",
    "\n",
    "# Precision\n",
    "gbt_precision_cv = evaluator.evaluate(gbt_predictions_cv, {evaluator.metricName: 'weightedPrecision'})\n",
    "print('Precision: {:.2f}%'.format(gbt_precision_cv * 100))\n",
    "\n",
    "# Recall\n",
    "gbt_recall_cv = evaluator.evaluate(gbt_predictions_cv, {evaluator.metricName: 'weightedRecall'})\n",
    "print('Recall: {:.2f}%'.format(gbt_recall_cv * 100))\n",
    "\n",
    "# F1 Score\n",
    "gbt_f1Score_cv = evaluator.evaluate(gbt_predictions_cv, {evaluator.metricName: 'f1'})\n",
    "print('F1 Score: {:.4f}'.format(gbt_f1Score_cv))\n",
    "\n",
    "# AUC\n",
    "gbt_auc_cv = evaluator_b.evaluate(gbt_predictions_cv, {evaluator_b.metricName: 'areaUnderROC'})\n",
    "print('AUC: {:.4f}'.format(gbt_auc_cv))"
   ]
  },
  {
   "cell_type": "markdown",
   "metadata": {},
   "source": [
    "#### Model 3: Random Forest"
   ]
  },
  {
   "cell_type": "code",
   "execution_count": 17,
   "metadata": {},
   "outputs": [],
   "source": [
    "# Create the RandomForestClassifier\n",
    "rf = RandomForestClassifier(numTrees=10, maxDepth=5, labelCol=target, featuresCol='features')"
   ]
  },
  {
   "cell_type": "code",
   "execution_count": 18,
   "metadata": {},
   "outputs": [
    {
     "name": "stderr",
     "output_type": "stream",
     "text": [
      "                                                                                \r"
     ]
    },
    {
     "name": "stdout",
     "output_type": "stream",
     "text": [
      "23/08/09 07:08:06 WARN package: Truncated the string representation of a plan since it was too large. This behavior can be adjusted by setting 'spark.sql.debug.maxToStringFields'.\n"
     ]
    },
    {
     "name": "stderr",
     "output_type": "stream",
     "text": [
      "                                                                                \r"
     ]
    }
   ],
   "source": [
    "# data splitting model\n",
    "\n",
    "# Train the model\n",
    "rf_model = rf.fit(train)\n",
    "\n",
    "# Make predictions on the test set\n",
    "rf_predictions = rf_model.transform(test)"
   ]
  },
  {
   "cell_type": "code",
   "execution_count": 27,
   "metadata": {},
   "outputs": [
    {
     "name": "stderr",
     "output_type": "stream",
     "text": [
      "[Stage 463:============================>                            (1 + 1) / 2]\r"
     ]
    }
   ],
   "source": [
    "# cross-validation model\n",
    "\n",
    "# model with cross validation\n",
    "rf_model_cv = crossvalidation(rf)\n",
    "\n",
    "# predict the target variable on the cross validation model\n",
    "rf_predictions_cv = rf_model_cv.transform(df)"
   ]
  },
  {
   "cell_type": "code",
   "execution_count": 28,
   "metadata": {},
   "outputs": [
    {
     "name": "stdout",
     "output_type": "stream",
     "text": [
      "Random Forest: Data Splitting Results\n"
     ]
    },
    {
     "name": "stderr",
     "output_type": "stream",
     "text": [
      "                                                                                \r"
     ]
    },
    {
     "name": "stdout",
     "output_type": "stream",
     "text": [
      "Accuracy: 82.95%\n"
     ]
    },
    {
     "name": "stderr",
     "output_type": "stream",
     "text": [
      "                                                                                \r"
     ]
    },
    {
     "name": "stdout",
     "output_type": "stream",
     "text": [
      "Precision: 81.37%\n"
     ]
    },
    {
     "name": "stderr",
     "output_type": "stream",
     "text": [
      "                                                                                \r"
     ]
    },
    {
     "name": "stdout",
     "output_type": "stream",
     "text": [
      "Recall: 82.95%\n"
     ]
    },
    {
     "name": "stderr",
     "output_type": "stream",
     "text": [
      "                                                                                \r"
     ]
    },
    {
     "name": "stdout",
     "output_type": "stream",
     "text": [
      "F1 Score: 0.8152\n"
     ]
    },
    {
     "name": "stderr",
     "output_type": "stream",
     "text": [
      "[Stage 522:============================>                            (1 + 1) / 2]\r"
     ]
    },
    {
     "name": "stdout",
     "output_type": "stream",
     "text": [
      "AUC: 0.7542\n"
     ]
    },
    {
     "name": "stderr",
     "output_type": "stream",
     "text": [
      "                                                                                \r"
     ]
    }
   ],
   "source": [
    "# evaluation metrics of data splitting model\n",
    "print('Random Forest: Data Splitting Results')\n",
    "\n",
    "rf_accuracy = evaluator.evaluate(rf_predictions, {evaluator.metricName: 'accuracy'})\n",
    "print('Accuracy: {:.2f}%'.format(rf_accuracy * 100))\n",
    "\n",
    "rf_precision = evaluator.evaluate(rf_predictions, {evaluator.metricName: 'weightedPrecision'})\n",
    "print('Precision: {:.2f}%'.format(rf_precision * 100))\n",
    "\n",
    "rf_recall = evaluator.evaluate(rf_predictions, {evaluator.metricName: 'weightedRecall'})\n",
    "print('Recall: {:.2f}%'.format(rf_recall * 100))\n",
    "\n",
    "rf_f1Score = evaluator.evaluate(rf_predictions, {evaluator.metricName: 'f1'})\n",
    "print('F1 Score: {:.4f}'.format(rf_f1Score))\n",
    "\n",
    "rf_auc = evaluator_b.evaluate(rf_predictions, {evaluator_b.metricName: 'areaUnderROC'})\n",
    "print('AUC: {:.4f}'.format(rf_auc))"
   ]
  },
  {
   "cell_type": "code",
   "execution_count": 29,
   "metadata": {},
   "outputs": [
    {
     "name": "stdout",
     "output_type": "stream",
     "text": [
      "Random Forest: Cross-Validation Results\n"
     ]
    },
    {
     "name": "stderr",
     "output_type": "stream",
     "text": [
      "                                                                                \r"
     ]
    },
    {
     "name": "stdout",
     "output_type": "stream",
     "text": [
      "Accuracy: 82.82%\n"
     ]
    },
    {
     "name": "stderr",
     "output_type": "stream",
     "text": [
      "                                                                                \r"
     ]
    },
    {
     "name": "stdout",
     "output_type": "stream",
     "text": [
      "Precision: 81.24%\n"
     ]
    },
    {
     "name": "stderr",
     "output_type": "stream",
     "text": [
      "                                                                                \r"
     ]
    },
    {
     "name": "stdout",
     "output_type": "stream",
     "text": [
      "Recall: 82.82%\n"
     ]
    },
    {
     "name": "stderr",
     "output_type": "stream",
     "text": [
      "                                                                                \r"
     ]
    },
    {
     "name": "stdout",
     "output_type": "stream",
     "text": [
      "F1 Score: 0.8132\n"
     ]
    },
    {
     "name": "stderr",
     "output_type": "stream",
     "text": [
      "[Stage 587:>                                                        (0 + 1) / 1]\r"
     ]
    },
    {
     "name": "stdout",
     "output_type": "stream",
     "text": [
      "AUC: 0.7586\n"
     ]
    },
    {
     "name": "stderr",
     "output_type": "stream",
     "text": [
      "                                                                                \r"
     ]
    }
   ],
   "source": [
    "# evaluation metrics of cross-validation model\n",
    "print('Random Forest: Cross-Validation Results')\n",
    "\n",
    "rf_accuracy_cv = evaluator.evaluate(rf_predictions_cv, {evaluator.metricName: 'accuracy'})\n",
    "print('Accuracy: {:.2f}%'.format(rf_accuracy_cv * 100))\n",
    "\n",
    "rf_precision_cv = evaluator.evaluate(rf_predictions_cv, {evaluator.metricName: 'weightedPrecision'})\n",
    "print('Precision: {:.2f}%'.format(rf_precision_cv * 100))\n",
    "\n",
    "rf_recall_cv = evaluator.evaluate(rf_predictions_cv, {evaluator.metricName: 'weightedRecall'})\n",
    "print('Recall: {:.2f}%'.format(rf_recall_cv * 100))\n",
    "\n",
    "rf_f1Score_cv = evaluator.evaluate(rf_predictions_cv, {evaluator.metricName: 'f1'})\n",
    "print('F1 Score: {:.4f}'.format(rf_f1Score_cv))\n",
    "\n",
    "rf_auc_cv = evaluator_b.evaluate(rf_predictions_cv, {evaluator_b.metricName: 'areaUnderROC'})\n",
    "print('AUC: {:.4f}'.format(rf_auc_cv))"
   ]
  },
  {
   "cell_type": "code",
   "execution_count": 30,
   "metadata": {},
   "outputs": [
    {
     "data": {
      "image/png": "[encoded data removed]",
      "text/plain": [
       "<Figure size 640x480 with 1 Axes>"
      ]
     },
     "metadata": {},
     "output_type": "display_data"
    }
   ],
   "source": [
    "# importance of variables for data splitting model\n",
    "\n",
    "# Assuming 'model' is the trained RandomForestClassifier or RandomForestRegressor\n",
    "importances = rf_model.featureImportances\n",
    "\n",
    "# Convert feature importances to a Pandas DataFrame for easier visualization\n",
    "importances_df = pd.DataFrame(importances.toArray(), columns=['Importance'], index=features)\n",
    "\n",
    "# Sort the features by importance and plot a bar chart\n",
    "importances_df.sort_values(by='Importance', ascending=False).plot(kind='bar')\n",
    "plt.title('Feature Importances for Data Splitting Model')\n",
    "plt.xlabel('Features')\n",
    "plt.ylabel('Importance')\n",
    "plt.show()"
   ]
  },
  {
   "cell_type": "code",
   "execution_count": 31,
   "metadata": {},
   "outputs": [
    {
     "ename": "AttributeError",
     "evalue": "'CrossValidatorModel' object has no attribute 'featureImportances'",
     "output_type": "error",
     "traceback": [
      "\u001b[0;31m---------------------------------------------------------------------------\u001b[0m",
      "\u001b[0;31mAttributeError\u001b[0m                            Traceback (most recent call last)",
      "\u001b[0;32m/tmp/ipykernel_2753599/2760148184.py\u001b[0m in \u001b[0;36m<module>\u001b[0;34m\u001b[0m\n\u001b[1;32m      2\u001b[0m \u001b[0;34m\u001b[0m\u001b[0m\n\u001b[1;32m      3\u001b[0m \u001b[0;31m# Assuming 'model' is the trained RandomForestClassifier or RandomForestRegressor\u001b[0m\u001b[0;34m\u001b[0m\u001b[0;34m\u001b[0m\u001b[0;34m\u001b[0m\u001b[0m\n\u001b[0;32m----> 4\u001b[0;31m \u001b[0mimportances_cv\u001b[0m \u001b[0;34m=\u001b[0m \u001b[0mrf_model_cv\u001b[0m\u001b[0;34m.\u001b[0m\u001b[0mfeatureImportances\u001b[0m\u001b[0;34m\u001b[0m\u001b[0;34m\u001b[0m\u001b[0m\n\u001b[0m\u001b[1;32m      5\u001b[0m \u001b[0;34m\u001b[0m\u001b[0m\n\u001b[1;32m      6\u001b[0m \u001b[0;31m# Convert feature importances to a Pandas DataFrame for easier visualization\u001b[0m\u001b[0;34m\u001b[0m\u001b[0;34m\u001b[0m\u001b[0;34m\u001b[0m\u001b[0m\n",
      "\u001b[0;31mAttributeError\u001b[0m: 'CrossValidatorModel' object has no attribute 'featureImportances'"
     ]
    }
   ],
   "source": [
    "# importance of variables for cross-validation model\n",
    "\n",
    "# Assuming 'model' is the trained RandomForestClassifier or RandomForestRegressor\n",
    "importances_cv = rf_model_cv.featureImportances\n",
    "\n",
    "# Convert feature importances to a Pandas DataFrame for easier visualization\n",
    "importances_df_cv = pd.DataFrame(importances_cv.toArray(), columns=['Importance'], index=features)\n",
    "\n",
    "# Sort the features by importance and plot a bar chart\n",
    "importances_df_cv.sort_values(by='Importance', ascending=False).plot(kind='bar')\n",
    "plt.title('Feature Importances for Cross-Validation Model')\n",
    "plt.xlabel('Features')\n",
    "plt.ylabel('Importance')\n",
    "plt.show()"
   ]
  },
  {
   "cell_type": "markdown",
   "metadata": {},
   "source": [
    "### Model Evaluation\n",
    "**NOTES:** This should include computation of relevant metrics, and a comparison between models.\n",
    "\n",
    "For all appropriate models (benchmark, champion, and other relevant models), the following should be\n",
    "conducted:\n",
    "    \n",
    "    a. Evaluate relevant metrics. \n",
    "        For regression, this would include\n",
    "            i. R-squared\n",
    "        For classification, this would include:\n",
    "            i. accuracy\n",
    "            ii. precision, recall, F1 score\n",
    "            iii. confusion matrix\n",
    "            iv. area under ROC curve (AUROC)\n",
    "        Depending on the application, additional evaluation could make sense such as lift charts\n",
    "    b. Sensitivity analysis\n",
    "        For your champion model, show relevant metrics for different hyperparameter values. This gives an idea of the model sensitivity.\n",
    "        \n",
    "        \n",
    "        \n",
    "All of the models generated performed fairly similarly. Overall, the best performance was the Random Forest model performing slightly better than the other models with all metrics except AUC, both with data splitting and k-fold cross-validation. In the random forest model the variable Distance was the resounding most important variable in the model, agreeing with the gradient boosting model’s most important variable. \n",
    "\n",
    "\n",
    "| Model                                | Accuracy | Precision | Recall | F1 Score | AUC    |\n",
    "|--------------------------------------|----------|-----------|--------|----------|--------|\n",
    "| Logistic Regression (Data Splitting) | 82.56%   | 80.97%    | 82.56% | 0.8087   | 0.7628 |\n",
    "| Logistic Regression (k-Fold CV)      |          |           |        |          |        |\n",
    "| Gradient Boosting (Data Splitting)   |          |           |        |          |        |\n",
    "| Gradient Boosting (k-Fold CV)        |          |           |        |          |        |\n",
    "| Random Forest (Data Splitting)       |          |           |        |          |        |\n",
    "| Random Forest (k-Fold CV)            |          |           |        |          |        |"
   ]
  },
  {
   "cell_type": "code",
   "execution_count": null,
   "metadata": {},
   "outputs": [],
   "source": []
  }
 ],
 "metadata": {
  "kernelspec": {
   "display_name": "DS5110 Spark 3.3",
   "language": "python",
   "name": "ds5110_spark3.3"
  },
  "language_info": {
   "codemirror_mode": {
    "name": "ipython",
    "version": 3
   },
   "file_extension": ".py",
   "mimetype": "text/x-python",
   "name": "python",
   "nbconvert_exporter": "python",
   "pygments_lexer": "ipython3",
   "version": "3.7.12"
  }
 },
 "nbformat": 4,
 "nbformat_minor": 4
}
